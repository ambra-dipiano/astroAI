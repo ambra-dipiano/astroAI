{
 "cells": [
  {
   "cell_type": "code",
   "execution_count": 34,
   "id": "64c61b6f",
   "metadata": {},
   "outputs": [
    {
     "data": {
      "text/html": [
       "<div>\n",
       "<style scoped>\n",
       "    .dataframe tbody tr th:only-of-type {\n",
       "        vertical-align: middle;\n",
       "    }\n",
       "\n",
       "    .dataframe tbody tr th {\n",
       "        vertical-align: top;\n",
       "    }\n",
       "\n",
       "    .dataframe thead th {\n",
       "        text-align: right;\n",
       "    }\n",
       "</style>\n",
       "<table border=\"1\" class=\"dataframe\">\n",
       "  <thead>\n",
       "    <tr style=\"text-align: right;\">\n",
       "      <th></th>\n",
       "      <th>name</th>\n",
       "      <th>seed</th>\n",
       "      <th>start</th>\n",
       "      <th>stop</th>\n",
       "      <th>duration</th>\n",
       "      <th>source_ra</th>\n",
       "      <th>source_dec</th>\n",
       "      <th>point_ra</th>\n",
       "      <th>point_dec</th>\n",
       "      <th>offset</th>\n",
       "      <th>irf</th>\n",
       "      <th>fov</th>\n",
       "      <th>sim_time</th>\n",
       "    </tr>\n",
       "  </thead>\n",
       "  <tbody>\n",
       "    <tr>\n",
       "      <th>60000</th>\n",
       "      <td>crab_00001</td>\n",
       "      <td>1</td>\n",
       "      <td>0</td>\n",
       "      <td>100</td>\n",
       "      <td>100</td>\n",
       "      <td>313.160025</td>\n",
       "      <td>23.341878</td>\n",
       "      <td>313.197506</td>\n",
       "      <td>22.894122</td>\n",
       "      <td>0.449081</td>\n",
       "      <td>North_z40_N_5h_LST</td>\n",
       "      <td>2.5</td>\n",
       "      <td>8.043759</td>\n",
       "    </tr>\n",
       "    <tr>\n",
       "      <th>60001</th>\n",
       "      <td>crab_00002</td>\n",
       "      <td>2</td>\n",
       "      <td>0</td>\n",
       "      <td>100</td>\n",
       "      <td>100</td>\n",
       "      <td>20.761826</td>\n",
       "      <td>-79.812129</td>\n",
       "      <td>30.555079</td>\n",
       "      <td>-80.334273</td>\n",
       "      <td>1.764702</td>\n",
       "      <td>North_z60_0.5h_LST</td>\n",
       "      <td>2.5</td>\n",
       "      <td>7.736644</td>\n",
       "    </tr>\n",
       "    <tr>\n",
       "      <th>60002</th>\n",
       "      <td>crab_00003</td>\n",
       "      <td>3</td>\n",
       "      <td>0</td>\n",
       "      <td>100</td>\n",
       "      <td>100</td>\n",
       "      <td>263.050678</td>\n",
       "      <td>-20.730728</td>\n",
       "      <td>263.711201</td>\n",
       "      <td>-21.511765</td>\n",
       "      <td>0.994811</td>\n",
       "      <td>North_z60_S_0.5h_LST</td>\n",
       "      <td>2.5</td>\n",
       "      <td>7.631279</td>\n",
       "    </tr>\n",
       "    <tr>\n",
       "      <th>60003</th>\n",
       "      <td>crab_00004</td>\n",
       "      <td>4</td>\n",
       "      <td>0</td>\n",
       "      <td>100</td>\n",
       "      <td>100</td>\n",
       "      <td>28.792668</td>\n",
       "      <td>-35.000006</td>\n",
       "      <td>28.821520</td>\n",
       "      <td>-35.011190</td>\n",
       "      <td>0.026146</td>\n",
       "      <td>North_z60_S_0.5h_LST</td>\n",
       "      <td>2.5</td>\n",
       "      <td>7.664158</td>\n",
       "    </tr>\n",
       "    <tr>\n",
       "      <th>60004</th>\n",
       "      <td>crab_00005</td>\n",
       "      <td>5</td>\n",
       "      <td>0</td>\n",
       "      <td>100</td>\n",
       "      <td>100</td>\n",
       "      <td>37.429610</td>\n",
       "      <td>-41.740501</td>\n",
       "      <td>38.148164</td>\n",
       "      <td>-41.630777</td>\n",
       "      <td>0.547721</td>\n",
       "      <td>North_z60_S_0.5h_LST</td>\n",
       "      <td>2.5</td>\n",
       "      <td>7.609625</td>\n",
       "    </tr>\n",
       "  </tbody>\n",
       "</table>\n",
       "</div>"
      ],
      "text/plain": [
       "             name  seed  start  stop  duration   source_ra  source_dec  \\\n",
       "60000  crab_00001     1      0   100       100  313.160025   23.341878   \n",
       "60001  crab_00002     2      0   100       100   20.761826  -79.812129   \n",
       "60002  crab_00003     3      0   100       100  263.050678  -20.730728   \n",
       "60003  crab_00004     4      0   100       100   28.792668  -35.000006   \n",
       "60004  crab_00005     5      0   100       100   37.429610  -41.740501   \n",
       "\n",
       "         point_ra  point_dec    offset                   irf  fov  sim_time  \n",
       "60000  313.197506  22.894122  0.449081    North_z40_N_5h_LST  2.5  8.043759  \n",
       "60001   30.555079 -80.334273  1.764702    North_z60_0.5h_LST  2.5  7.736644  \n",
       "60002  263.711201 -21.511765  0.994811  North_z60_S_0.5h_LST  2.5  7.631279  \n",
       "60003   28.821520 -35.011190  0.026146  North_z60_S_0.5h_LST  2.5  7.664158  \n",
       "60004   38.148164 -41.630777  0.547721  North_z60_S_0.5h_LST  2.5  7.609625  "
      ]
     },
     "execution_count": 34,
     "metadata": {},
     "output_type": "execute_result"
    }
   ],
   "source": [
    "import numpy as np\n",
    "import pandas as pd\n",
    "from os import listdir\n",
    "from os.path import join, isfile\n",
    "\n",
    "# info tables\n",
    "simtable = f'/data01/homes/dipiano/E4/irf_random/crab/sim/merged_simulator_data.dat'\n",
    "simdata = pd.read_csv(infotable, sep=' ', header=0).sort_values(by=['seed'])\n",
    "simdata.head()"
   ]
  },
  {
   "cell_type": "code",
   "execution_count": 35,
   "id": "07626d18",
   "metadata": {},
   "outputs": [],
   "source": [
    "import matplotlib.pyplot as plt\n",
    "import astropy.units as u\n",
    "from astropy import wcs\n",
    "\n",
    "# extract heatmap from DL3 with configurable exposure\n",
    "def extract_heatmap_from_table(data, smoothing, nbins, save=False, save_name=None, filter=True, \n",
    "                               trange=None, wcs=None):\n",
    "    if filter and trange is not None:\n",
    "        data = data[(data['TIME'] >= trange[0]) & (data['TIME'] <= trange[1])] \n",
    "    ra, dec = data['RA'].to_numpy(), data['DEC'].to_numpy()\n",
    "    \n",
    "    if wcs is not None:\n",
    "        ra, dec = wcs.world_to_pixel(SkyCoord(ra, dec, unit='deg'))\n",
    "    heatmap, xe, ye = np.histogram2d(ra, dec, bins=nbins)\n",
    "    if smoothing != 0:\n",
    "        heatmap = gaussian_filter(heatmap, sigma=smoothing)\n",
    "    if save and save_name is not None:\n",
    "        np.save(save_name, heatmap, allow_pickle=True, fix_imports=True)\n",
    "    return heatmap.T\n",
    "\n",
    "# plot heatmap with WCS\n",
    "def plot_heatmap_wcs(heatmap, transform, title='heatmap', xlabel='x', ylabel='y', show=False, save=False, \n",
    "                     save_name=None, wcs=None, src=None, yflip=False):\n",
    "    if wcs is not None:\n",
    "        ax = plt.subplot(projection=wcs)\n",
    "        ax.coords[0].set_format_unit(u.deg)\n",
    "        ax.coords[1].set_format_unit(u.deg)\n",
    "        ax.invert_xaxis()\n",
    "        ax.scatter(src.ra.deg, src.dec.deg, marker='o', s=50, facecolor='none', edgecolor='k', \n",
    "                   transform=ax.get_transform(transform))\n",
    "    else:\n",
    "        ax = plt.subplot()\n",
    "    if yflip:\n",
    "        heatmap = np.flipud(heatmap)\n",
    "    img = ax.imshow(heatmap, vmin=0, vmax=1, origin='lower')\n",
    "    ax.set_title(title)\n",
    "    ax.set_xlabel(xlabel)\n",
    "    ax.set_ylabel(ylabel)\n",
    "    plt.colorbar(img)\n",
    "    if save and save_name is not None:\n",
    "        plt.savefig(save_name)\n",
    "    if show:\n",
    "        plt.show()\n",
    "    plt.close()\n",
    "    return"
   ]
  },
  {
   "cell_type": "code",
   "execution_count": 36,
   "id": "86c51fdc",
   "metadata": {},
   "outputs": [
    {
     "name": "stdout",
     "output_type": "stream",
     "text": [
      "SEED=1\n"
     ]
    },
    {
     "data": {
      "text/html": [
       "<div>\n",
       "<style scoped>\n",
       "    .dataframe tbody tr th:only-of-type {\n",
       "        vertical-align: middle;\n",
       "    }\n",
       "\n",
       "    .dataframe tbody tr th {\n",
       "        vertical-align: top;\n",
       "    }\n",
       "\n",
       "    .dataframe thead th {\n",
       "        text-align: right;\n",
       "    }\n",
       "</style>\n",
       "<table border=\"1\" class=\"dataframe\">\n",
       "  <thead>\n",
       "    <tr style=\"text-align: right;\">\n",
       "      <th></th>\n",
       "      <th>name</th>\n",
       "      <th>seed</th>\n",
       "      <th>start</th>\n",
       "      <th>stop</th>\n",
       "      <th>duration</th>\n",
       "      <th>source_ra</th>\n",
       "      <th>source_dec</th>\n",
       "      <th>point_ra</th>\n",
       "      <th>point_dec</th>\n",
       "      <th>offset</th>\n",
       "      <th>irf</th>\n",
       "      <th>fov</th>\n",
       "      <th>sim_time</th>\n",
       "    </tr>\n",
       "  </thead>\n",
       "  <tbody>\n",
       "    <tr>\n",
       "      <th>60000</th>\n",
       "      <td>crab_00001</td>\n",
       "      <td>1</td>\n",
       "      <td>0</td>\n",
       "      <td>100</td>\n",
       "      <td>100</td>\n",
       "      <td>313.160025</td>\n",
       "      <td>23.341878</td>\n",
       "      <td>313.197506</td>\n",
       "      <td>22.894122</td>\n",
       "      <td>0.449081</td>\n",
       "      <td>North_z40_N_5h_LST</td>\n",
       "      <td>2.5</td>\n",
       "      <td>8.043759</td>\n",
       "    </tr>\n",
       "  </tbody>\n",
       "</table>\n",
       "</div>"
      ],
      "text/plain": [
       "             name  seed  start  stop  duration   source_ra  source_dec  \\\n",
       "60000  crab_00001     1      0   100       100  313.160025   23.341878   \n",
       "\n",
       "         point_ra  point_dec    offset                 irf  fov  sim_time  \n",
       "60000  313.197506  22.894122  0.449081  North_z40_N_5h_LST  2.5  8.043759  "
      ]
     },
     "execution_count": 36,
     "metadata": {},
     "output_type": "execute_result"
    }
   ],
   "source": [
    "from astropy.table import Table\n",
    "from astroai.tools.utils import extract_heatmap_from_table\n",
    "from astropy.wcs import WCS\n",
    "from astropy.io import fits\n",
    "from astropy.coordinates import SkyCoord\n",
    "\n",
    "seed = 1\n",
    "print(f\"SEED={seed}\")\n",
    "\n",
    "row = simdata[simdata['seed']==seed]\n",
    "row"
   ]
  },
  {
   "cell_type": "code",
   "execution_count": 37,
   "id": "67f672fb",
   "metadata": {},
   "outputs": [
    {
     "data": {
      "text/plain": [
       "(313.16002476539614, 23.34187847081937)"
      ]
     },
     "execution_count": 37,
     "metadata": {},
     "output_type": "execute_result"
    }
   ],
   "source": [
    "src = SkyCoord(ra=row['source_ra'].values[0], dec=row['source_dec'].values[0], unit='deg', frame='icrs')\n",
    "src.ra.deg, src.dec.deg"
   ]
  },
  {
   "cell_type": "code",
   "execution_count": 42,
   "id": "87fad2f1",
   "metadata": {},
   "outputs": [
    {
     "name": "stdout",
     "output_type": "stream",
     "text": [
      "/data01/homes/dipiano/E4/irf_random/crab/sim/crab_00001.fits\n"
     ]
    },
    {
     "data": {
      "text/plain": [
       "FITS_rec([(          1,  2.02900642, -46.980927, 23.272585, 0.0582465 ,  0.37856153, -0.16391507, 1),\n",
       "          (          2, 10.81418926, -47.02641 , 23.524553, 0.04292103,  0.63058823, -0.20530923, 1),\n",
       "          (          3, 10.99342662, -47.134007, 23.42104 , 0.05583354,  0.5272614 , -0.30420431, 1),\n",
       "          ...,\n",
       "          (       5059, 99.94415909, -47.898937, 23.590948, 0.05682643,  0.70060265, -1.004825  , 2),\n",
       "          (       5060, 99.99390763, -45.28595 , 22.555899, 0.04373148, -0.33104676,  1.4005214 , 2),\n",
       "          (       5061, 99.99856299, -47.16383 , 23.570683, 0.09219255,  0.67697114, -0.33119473, 2)],\n",
       "         dtype=(numpy.record, [('EVENT_ID', '>i4'), ('TIME', '>f8'), ('RA', '>f4'), ('DEC', '>f4'), ('ENERGY', '>f4'), ('DETX', '>f4'), ('DETY', '>f4'), ('MC_ID', '>i4')]))"
      ]
     },
     "execution_count": 42,
     "metadata": {},
     "output_type": "execute_result"
    }
   ],
   "source": [
    "from astroai.tools.utils import extract_heatmap\n",
    "\n",
    "img = f\"/data01/homes/dipiano/E4/irf_random/crab/sim/crab_00001.fits\"\n",
    "print(img)\n",
    "\n",
    "with fits.open(img) as h:\n",
    "    w = WCS(header=h[0].header)\n",
    "    data = h[1].data\n",
    "    \n"
   ]
  },
  {
   "cell_type": "code",
   "execution_count": null,
   "id": "e8046d55",
   "metadata": {},
   "outputs": [],
   "source": [
    "heatmap = Table.read(img, hdu=1).to_pandas()\n",
    "heatmap = extract_heatmap_from_table(heatmap, smoothing=5, nbins=250, wcs=w)\n",
    "\n",
    "plot_heatmap_wcs(heatmap, title=f\"seed {seed}\", wcs=w, src=src, xlabel='RA [deg]', ylabel='DEC [deg]',\n",
    "                 show=True, save=False, save_name=None, transform='world')"
   ]
  },
  {
   "cell_type": "code",
   "execution_count": null,
   "id": "ceeb8a7a",
   "metadata": {},
   "outputs": [],
   "source": []
  },
  {
   "cell_type": "code",
   "execution_count": null,
   "id": "2b9e8071",
   "metadata": {},
   "outputs": [],
   "source": [
    "# binning in RA, DEC\n",
    "# converti solo SRC_RA, SRC_DEC\n",
    "# plt in pixel la heatmap e la SRC"
   ]
  }
 ],
 "metadata": {
  "kernelspec": {
   "display_name": "astroai",
   "language": "python",
   "name": "astroai"
  },
  "language_info": {
   "codemirror_mode": {
    "name": "ipython",
    "version": 3
   },
   "file_extension": ".py",
   "mimetype": "text/x-python",
   "name": "python",
   "nbconvert_exporter": "python",
   "pygments_lexer": "ipython3",
   "version": "3.7.4"
  }
 },
 "nbformat": 4,
 "nbformat_minor": 5
}
