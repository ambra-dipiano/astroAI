{
 "cells": [
  {
   "cell_type": "code",
   "execution_count": 1,
   "id": "8e9932df-1575-452c-9cfa-dbc6185021b6",
   "metadata": {},
   "outputs": [
    {
     "data": {
      "text/plain": [
       "(2000, 2000)"
      ]
     },
     "execution_count": 1,
     "metadata": {},
     "output_type": "execute_result"
    }
   ],
   "source": [
    "import pickle\n",
    "import scipy\n",
    "import numpy as np\n",
    "import pandas as pd\n",
    "from scipy import stats\n",
    "\n",
    "dg = 'data/loc_gammapy_zALL.pickle'\n",
    "dm = 'data/loc_cnn_zALL.pickle'\n",
    "\n",
    "with open(dg,'rb') as f: dsg = np.array(pickle.load(f))\n",
    "with open(dm,'rb') as f: dsm = np.array(pickle.load(f)[:2000])\n",
    "    \n",
    "dsm = dsm#[dsm <= 0.5]\n",
    "\n",
    "len(dsg), len(dsm)"
   ]
  },
  {
   "cell_type": "code",
   "execution_count": 2,
   "id": "7c062a38",
   "metadata": {},
   "outputs": [
    {
     "data": {
      "text/plain": [
       "(0.03267523944387364, 0.029197028884738633)"
      ]
     },
     "execution_count": 2,
     "metadata": {},
     "output_type": "execute_result"
    }
   ],
   "source": [
    "dsg[30], dsm[30]"
   ]
  },
  {
   "cell_type": "code",
   "execution_count": 3,
   "id": "5e44d6b3",
   "metadata": {},
   "outputs": [
    {
     "data": {
      "text/plain": [
       "(0.03337795152961974, 0.046859495953744126)"
      ]
     },
     "execution_count": 3,
     "metadata": {},
     "output_type": "execute_result"
    }
   ],
   "source": [
    "np.median(dsg), np.median(dsm)"
   ]
  },
  {
   "cell_type": "code",
   "execution_count": 4,
   "id": "aac62186",
   "metadata": {},
   "outputs": [
    {
     "data": {
      "text/plain": [
       "(0.0007523315372666053, 0.09422424422048704)"
      ]
     },
     "execution_count": 4,
     "metadata": {},
     "output_type": "execute_result"
    }
   ],
   "source": [
    "np.var(dsg), np.var(dsm)"
   ]
  },
  {
   "cell_type": "code",
   "execution_count": 5,
   "id": "769ecabf",
   "metadata": {},
   "outputs": [
    {
     "data": {
      "text/plain": [
       "(0.027428662695556365, 0.30695967849293665)"
      ]
     },
     "execution_count": 5,
     "metadata": {},
     "output_type": "execute_result"
    }
   ],
   "source": [
    "np.std(dsg), np.std(dsm)"
   ]
  },
  {
   "cell_type": "code",
   "execution_count": 6,
   "id": "af6c38d8",
   "metadata": {},
   "outputs": [
    {
     "data": {
      "text/plain": [
       "(0.044372337467706226, 0.06795643453859672)"
      ]
     },
     "execution_count": 6,
     "metadata": {},
     "output_type": "execute_result"
    }
   ],
   "source": [
    "np.percentile(dsg, 68), np.percentile(dsm, 68)"
   ]
  },
  {
   "cell_type": "code",
   "execution_count": 7,
   "id": "112cae09",
   "metadata": {},
   "outputs": [
    {
     "data": {
      "text/plain": [
       "(0.044372337467706226, 0.06795643453859672)"
      ]
     },
     "execution_count": 7,
     "metadata": {},
     "output_type": "execute_result"
    }
   ],
   "source": [
    "np.quantile(dsg, 0.68), np.quantile(dsm, 0.68)"
   ]
  },
  {
   "cell_type": "code",
   "execution_count": null,
   "id": "91014b01",
   "metadata": {},
   "outputs": [],
   "source": []
  },
  {
   "cell_type": "code",
   "execution_count": null,
   "id": "27ba90eb",
   "metadata": {},
   "outputs": [],
   "source": []
  },
  {
   "cell_type": "code",
   "execution_count": null,
   "id": "1bf335bc",
   "metadata": {},
   "outputs": [],
   "source": []
  },
  {
   "cell_type": "code",
   "execution_count": null,
   "id": "b3682cd4",
   "metadata": {},
   "outputs": [],
   "source": []
  },
  {
   "cell_type": "code",
   "execution_count": 8,
   "id": "98f2a7f2",
   "metadata": {},
   "outputs": [
    {
     "data": {
      "image/png": "[encoded data removed]",
      "text/plain": [
       "<Figure size 640x480 with 1 Axes>"
      ]
     },
     "metadata": {},
     "output_type": "display_data"
    }
   ],
   "source": [
    "import matplotlib.pyplot as plt\n",
    "\n",
    "plt.hist([dsg, dsm], bins=50, histtype='step', color=['b', 'r'])\n",
    "plt.xlim([-0.5, 2.5])\n",
    "plt.axvline(np.median(dsg), c='b')\n",
    "plt.axvline(np.median(dsm), c='r')\n",
    "plt.show()\n",
    "\n"
   ]
  },
  {
   "cell_type": "code",
   "execution_count": null,
   "id": "f4765fa3",
   "metadata": {},
   "outputs": [],
   "source": []
  },
  {
   "cell_type": "code",
   "execution_count": null,
   "id": "3997ba66",
   "metadata": {},
   "outputs": [],
   "source": []
  },
  {
   "cell_type": "code",
   "execution_count": 9,
   "id": "cf8ab7a9",
   "metadata": {},
   "outputs": [
    {
     "data": {
      "text/plain": [
       "['cauchy',\n",
       " 'chi2',\n",
       " 'expon',\n",
       " 'exponpow',\n",
       " 'gamma',\n",
       " 'lognorm',\n",
       " 'norm',\n",
       " 'powerlaw',\n",
       " 'rayleigh',\n",
       " 'uniform']"
      ]
     },
     "execution_count": 9,
     "metadata": {},
     "output_type": "execute_result"
    }
   ],
   "source": [
    "from fitter import Fitter\n",
    "from fitter import get_common_distributions\n",
    "\n",
    "dists = get_common_distributions()\n",
    "dists"
   ]
  },
  {
   "cell_type": "code",
   "execution_count": 10,
   "id": "fcb202f9",
   "metadata": {},
   "outputs": [
    {
     "name": "stderr",
     "output_type": "stream",
     "text": [
      "2024-08-21 14:44:34.648 | INFO     | fitter.fitter:_fit_single_distribution:333 - Fitted uniform distribution with error=4284.344119)\n",
      "2024-08-21 14:44:34.649 | INFO     | fitter.fitter:_fit_single_distribution:333 - Fitted expon distribution with error=1873.896343)\n",
      "2024-08-21 14:44:34.649 | INFO     | fitter.fitter:_fit_single_distribution:333 - Fitted norm distribution with error=880.617654)\n",
      "2024-08-21 14:44:34.650 | INFO     | fitter.fitter:_fit_single_distribution:333 - Fitted rayleigh distribution with error=427.983681)\n",
      "2024-08-21 14:44:34.651 | INFO     | fitter.fitter:_fit_single_distribution:333 - Fitted lognorm distribution with error=74.319846)\n",
      "2024-08-21 14:44:34.656 | INFO     | fitter.fitter:_fit_single_distribution:333 - Fitted cauchy distribution with error=584.30962)\n",
      "2024-08-21 14:44:34.659 | INFO     | fitter.fitter:_fit_single_distribution:333 - Fitted powerlaw distribution with error=3676.652246)\n",
      "2024-08-21 14:44:34.689 | INFO     | fitter.fitter:_fit_single_distribution:333 - Fitted chi2 distribution with error=116.668569)\n",
      "2024-08-21 14:44:34.724 | INFO     | fitter.fitter:_fit_single_distribution:333 - Fitted gamma distribution with error=7014.298469)\n",
      "2024-08-21 14:44:34.817 | INFO     | fitter.fitter:_fit_single_distribution:333 - Fitted exponpow distribution with error=966.483329)\n"
     ]
    },
    {
     "data": {
      "text/html": [
       "<div>\n",
       "<style scoped>\n",
       "    .dataframe tbody tr th:only-of-type {\n",
       "        vertical-align: middle;\n",
       "    }\n",
       "\n",
       "    .dataframe tbody tr th {\n",
       "        vertical-align: top;\n",
       "    }\n",
       "\n",
       "    .dataframe thead th {\n",
       "        text-align: right;\n",
       "    }\n",
       "</style>\n",
       "<table border=\"1\" class=\"dataframe\">\n",
       "  <thead>\n",
       "    <tr style=\"text-align: right;\">\n",
       "      <th></th>\n",
       "      <th>sumsquare_error</th>\n",
       "      <th>aic</th>\n",
       "      <th>bic</th>\n",
       "      <th>kl_div</th>\n",
       "      <th>ks_statistic</th>\n",
       "      <th>ks_pvalue</th>\n",
       "    </tr>\n",
       "  </thead>\n",
       "  <tbody>\n",
       "    <tr>\n",
       "      <th>lognorm</th>\n",
       "      <td>74.319846</td>\n",
       "      <td>49.976848</td>\n",
       "      <td>66.779556</td>\n",
       "      <td>inf</td>\n",
       "      <td>0.012584</td>\n",
       "      <td>9.053360e-01</td>\n",
       "    </tr>\n",
       "    <tr>\n",
       "      <th>chi2</th>\n",
       "      <td>116.668569</td>\n",
       "      <td>123.357805</td>\n",
       "      <td>140.160512</td>\n",
       "      <td>inf</td>\n",
       "      <td>0.030023</td>\n",
       "      <td>5.324869e-02</td>\n",
       "    </tr>\n",
       "    <tr>\n",
       "      <th>rayleigh</th>\n",
       "      <td>427.983681</td>\n",
       "      <td>495.995048</td>\n",
       "      <td>507.196853</td>\n",
       "      <td>inf</td>\n",
       "      <td>0.097857</td>\n",
       "      <td>4.016316e-17</td>\n",
       "    </tr>\n",
       "    <tr>\n",
       "      <th>cauchy</th>\n",
       "      <td>584.309620</td>\n",
       "      <td>14.859680</td>\n",
       "      <td>26.061485</td>\n",
       "      <td>inf</td>\n",
       "      <td>0.129022</td>\n",
       "      <td>1.740848e-29</td>\n",
       "    </tr>\n",
       "    <tr>\n",
       "      <th>norm</th>\n",
       "      <td>880.617654</td>\n",
       "      <td>732.989213</td>\n",
       "      <td>744.191018</td>\n",
       "      <td>inf</td>\n",
       "      <td>0.112285</td>\n",
       "      <td>2.027190e-22</td>\n",
       "    </tr>\n",
       "    <tr>\n",
       "      <th>exponpow</th>\n",
       "      <td>966.483329</td>\n",
       "      <td>399.797653</td>\n",
       "      <td>416.600360</td>\n",
       "      <td>inf</td>\n",
       "      <td>0.091678</td>\n",
       "      <td>4.445328e-15</td>\n",
       "    </tr>\n",
       "    <tr>\n",
       "      <th>expon</th>\n",
       "      <td>1873.896343</td>\n",
       "      <td>-68.021883</td>\n",
       "      <td>-56.820078</td>\n",
       "      <td>inf</td>\n",
       "      <td>0.172728</td>\n",
       "      <td>1.197721e-52</td>\n",
       "    </tr>\n",
       "    <tr>\n",
       "      <th>powerlaw</th>\n",
       "      <td>3676.652246</td>\n",
       "      <td>-253.521974</td>\n",
       "      <td>-236.719267</td>\n",
       "      <td>inf</td>\n",
       "      <td>0.330579</td>\n",
       "      <td>3.020959e-195</td>\n",
       "    </tr>\n",
       "    <tr>\n",
       "      <th>uniform</th>\n",
       "      <td>4284.344119</td>\n",
       "      <td>-295.648976</td>\n",
       "      <td>-284.447171</td>\n",
       "      <td>inf</td>\n",
       "      <td>0.581169</td>\n",
       "      <td>0.000000e+00</td>\n",
       "    </tr>\n",
       "    <tr>\n",
       "      <th>gamma</th>\n",
       "      <td>7014.298469</td>\n",
       "      <td>-85.652220</td>\n",
       "      <td>-68.849512</td>\n",
       "      <td>inf</td>\n",
       "      <td>0.363720</td>\n",
       "      <td>1.321758e-237</td>\n",
       "    </tr>\n",
       "  </tbody>\n",
       "</table>\n",
       "</div>"
      ],
      "text/plain": [
       "          sumsquare_error         aic         bic  kl_div  ks_statistic  \\\n",
       "lognorm         74.319846   49.976848   66.779556     inf      0.012584   \n",
       "chi2           116.668569  123.357805  140.160512     inf      0.030023   \n",
       "rayleigh       427.983681  495.995048  507.196853     inf      0.097857   \n",
       "cauchy         584.309620   14.859680   26.061485     inf      0.129022   \n",
       "norm           880.617654  732.989213  744.191018     inf      0.112285   \n",
       "exponpow       966.483329  399.797653  416.600360     inf      0.091678   \n",
       "expon         1873.896343  -68.021883  -56.820078     inf      0.172728   \n",
       "powerlaw      3676.652246 -253.521974 -236.719267     inf      0.330579   \n",
       "uniform       4284.344119 -295.648976 -284.447171     inf      0.581169   \n",
       "gamma         7014.298469  -85.652220  -68.849512     inf      0.363720   \n",
       "\n",
       "              ks_pvalue  \n",
       "lognorm    9.053360e-01  \n",
       "chi2       5.324869e-02  \n",
       "rayleigh   4.016316e-17  \n",
       "cauchy     1.740848e-29  \n",
       "norm       2.027190e-22  \n",
       "exponpow   4.445328e-15  \n",
       "expon      1.197721e-52  \n",
       "powerlaw  3.020959e-195  \n",
       "uniform    0.000000e+00  \n",
       "gamma     1.321758e-237  "
      ]
     },
     "execution_count": 10,
     "metadata": {},
     "output_type": "execute_result"
    },
    {
     "data": {
      "image/png": "[encoded data removed]",
      "text/plain": [
       "<Figure size 640x480 with 1 Axes>"
      ]
     },
     "metadata": {},
     "output_type": "display_data"
    }
   ],
   "source": [
    "f = Fitter(dsg, distributions=dists, xmin=0, xmax=5, bins=100, density=False)\n",
    "f.fit()\n",
    "f.summary(10)"
   ]
  },
  {
   "cell_type": "code",
   "execution_count": 11,
   "id": "766f4682",
   "metadata": {},
   "outputs": [
    {
     "name": "stderr",
     "output_type": "stream",
     "text": [
      "2024-08-21 14:44:37.082 | INFO     | fitter.fitter:_fit_single_distribution:333 - Fitted expon distribution with error=52.38064)\n",
      "2024-08-21 14:44:37.093 | INFO     | fitter.fitter:_fit_single_distribution:333 - Fitted norm distribution with error=190.690852)\n",
      "2024-08-21 14:44:37.098 | INFO     | fitter.fitter:_fit_single_distribution:333 - Fitted rayleigh distribution with error=174.645182)\n",
      "2024-08-21 14:44:37.103 | INFO     | fitter.fitter:_fit_single_distribution:333 - Fitted lognorm distribution with error=23.158881)\n",
      "2024-08-21 14:44:37.110 | INFO     | fitter.fitter:_fit_single_distribution:333 - Fitted cauchy distribution with error=20.988267)\n",
      "2024-08-21 14:44:37.121 | INFO     | fitter.fitter:_fit_single_distribution:333 - Fitted powerlaw distribution with error=128.227724)\n",
      "2024-08-21 14:44:37.122 | INFO     | fitter.fitter:_fit_single_distribution:333 - Fitted uniform distribution with error=235.480143)\n",
      "2024-08-21 14:44:37.178 | INFO     | fitter.fitter:_fit_single_distribution:333 - Fitted gamma distribution with error=53.010297)\n",
      "2024-08-21 14:44:37.192 | INFO     | fitter.fitter:_fit_single_distribution:333 - Fitted chi2 distribution with error=96.347032)\n",
      "2024-08-21 14:44:37.321 | INFO     | fitter.fitter:_fit_single_distribution:333 - Fitted exponpow distribution with error=115.40283)\n"
     ]
    },
    {
     "data": {
      "text/html": [
       "<div>\n",
       "<style scoped>\n",
       "    .dataframe tbody tr th:only-of-type {\n",
       "        vertical-align: middle;\n",
       "    }\n",
       "\n",
       "    .dataframe tbody tr th {\n",
       "        vertical-align: top;\n",
       "    }\n",
       "\n",
       "    .dataframe thead th {\n",
       "        text-align: right;\n",
       "    }\n",
       "</style>\n",
       "<table border=\"1\" class=\"dataframe\">\n",
       "  <thead>\n",
       "    <tr style=\"text-align: right;\">\n",
       "      <th></th>\n",
       "      <th>sumsquare_error</th>\n",
       "      <th>aic</th>\n",
       "      <th>bic</th>\n",
       "      <th>kl_div</th>\n",
       "      <th>ks_statistic</th>\n",
       "      <th>ks_pvalue</th>\n",
       "    </tr>\n",
       "  </thead>\n",
       "  <tbody>\n",
       "    <tr>\n",
       "      <th>cauchy</th>\n",
       "      <td>20.988267</td>\n",
       "      <td>1030.258029</td>\n",
       "      <td>1041.459834</td>\n",
       "      <td>inf</td>\n",
       "      <td>0.161414</td>\n",
       "      <td>5.397863e-46</td>\n",
       "    </tr>\n",
       "    <tr>\n",
       "      <th>lognorm</th>\n",
       "      <td>23.158881</td>\n",
       "      <td>1044.815583</td>\n",
       "      <td>1061.618291</td>\n",
       "      <td>inf</td>\n",
       "      <td>0.099621</td>\n",
       "      <td>9.891977e-18</td>\n",
       "    </tr>\n",
       "    <tr>\n",
       "      <th>expon</th>\n",
       "      <td>52.380640</td>\n",
       "      <td>1951.085493</td>\n",
       "      <td>1962.287298</td>\n",
       "      <td>inf</td>\n",
       "      <td>0.276926</td>\n",
       "      <td>4.420944e-136</td>\n",
       "    </tr>\n",
       "    <tr>\n",
       "      <th>gamma</th>\n",
       "      <td>53.010297</td>\n",
       "      <td>1225.644736</td>\n",
       "      <td>1242.447443</td>\n",
       "      <td>inf</td>\n",
       "      <td>0.178569</td>\n",
       "      <td>2.902893e-56</td>\n",
       "    </tr>\n",
       "    <tr>\n",
       "      <th>chi2</th>\n",
       "      <td>96.347032</td>\n",
       "      <td>508.507236</td>\n",
       "      <td>525.309944</td>\n",
       "      <td>inf</td>\n",
       "      <td>0.348670</td>\n",
       "      <td>8.327813e-218</td>\n",
       "    </tr>\n",
       "    <tr>\n",
       "      <th>exponpow</th>\n",
       "      <td>115.402830</td>\n",
       "      <td>411.262932</td>\n",
       "      <td>428.065640</td>\n",
       "      <td>inf</td>\n",
       "      <td>0.418542</td>\n",
       "      <td>6.098687e-318</td>\n",
       "    </tr>\n",
       "    <tr>\n",
       "      <th>powerlaw</th>\n",
       "      <td>128.227724</td>\n",
       "      <td>358.697565</td>\n",
       "      <td>375.500272</td>\n",
       "      <td>inf</td>\n",
       "      <td>0.392106</td>\n",
       "      <td>1.456737e-277</td>\n",
       "    </tr>\n",
       "    <tr>\n",
       "      <th>rayleigh</th>\n",
       "      <td>174.645182</td>\n",
       "      <td>2818.066145</td>\n",
       "      <td>2829.267950</td>\n",
       "      <td>inf</td>\n",
       "      <td>0.398292</td>\n",
       "      <td>9.824652e-287</td>\n",
       "    </tr>\n",
       "    <tr>\n",
       "      <th>norm</th>\n",
       "      <td>190.690852</td>\n",
       "      <td>2822.046693</td>\n",
       "      <td>2833.248498</td>\n",
       "      <td>inf</td>\n",
       "      <td>0.343708</td>\n",
       "      <td>1.749702e-211</td>\n",
       "    </tr>\n",
       "    <tr>\n",
       "      <th>uniform</th>\n",
       "      <td>235.480143</td>\n",
       "      <td>226.361242</td>\n",
       "      <td>237.563047</td>\n",
       "      <td>inf</td>\n",
       "      <td>0.831350</td>\n",
       "      <td>0.000000e+00</td>\n",
       "    </tr>\n",
       "  </tbody>\n",
       "</table>\n",
       "</div>"
      ],
      "text/plain": [
       "          sumsquare_error          aic          bic  kl_div  ks_statistic  \\\n",
       "cauchy          20.988267  1030.258029  1041.459834     inf      0.161414   \n",
       "lognorm         23.158881  1044.815583  1061.618291     inf      0.099621   \n",
       "expon           52.380640  1951.085493  1962.287298     inf      0.276926   \n",
       "gamma           53.010297  1225.644736  1242.447443     inf      0.178569   \n",
       "chi2            96.347032   508.507236   525.309944     inf      0.348670   \n",
       "exponpow       115.402830   411.262932   428.065640     inf      0.418542   \n",
       "powerlaw       128.227724   358.697565   375.500272     inf      0.392106   \n",
       "rayleigh       174.645182  2818.066145  2829.267950     inf      0.398292   \n",
       "norm           190.690852  2822.046693  2833.248498     inf      0.343708   \n",
       "uniform        235.480143   226.361242   237.563047     inf      0.831350   \n",
       "\n",
       "              ks_pvalue  \n",
       "cauchy     5.397863e-46  \n",
       "lognorm    9.891977e-18  \n",
       "expon     4.420944e-136  \n",
       "gamma      2.902893e-56  \n",
       "chi2      8.327813e-218  \n",
       "exponpow  6.098687e-318  \n",
       "powerlaw  1.456737e-277  \n",
       "rayleigh  9.824652e-287  \n",
       "norm      1.749702e-211  \n",
       "uniform    0.000000e+00  "
      ]
     },
     "execution_count": 11,
     "metadata": {},
     "output_type": "execute_result"
    },
    {
     "data": {
      "image/png": "[encoded data removed]",
      "text/plain": [
       "<Figure size 640x480 with 1 Axes>"
      ]
     },
     "metadata": {},
     "output_type": "display_data"
    }
   ],
   "source": [
    "f = Fitter(dsm, distributions=dists, xmin=0, xmax=5, bins=100, density=False)\n",
    "f.fit()\n",
    "f.summary(10)"
   ]
  },
  {
   "cell_type": "code",
   "execution_count": 12,
   "id": "29343577",
   "metadata": {},
   "outputs": [
    {
     "data": {
      "text/plain": [
       "(46.42857142857143, 165.66666666666669)"
      ]
     },
     "execution_count": 12,
     "metadata": {},
     "output_type": "execute_result"
    }
   ],
   "source": [
    "st = 'data/loc_stats_zALL.txt'\n",
    "\n",
    "data = pd.read_csv(st, header=0, sep=' ')\n",
    "data.head()\n",
    "\n",
    "data['excess'].min(), data['excess'].max()"
   ]
  },
  {
   "cell_type": "code",
   "execution_count": 13,
   "id": "2974ad49",
   "metadata": {},
   "outputs": [
    {
     "data": {
      "text/plain": [
       "(1.9393226262223018, 8.871904262177914)"
      ]
     },
     "execution_count": 13,
     "metadata": {},
     "output_type": "execute_result"
    }
   ],
   "source": [
    "cl = 'data/cleaner_zALL_sum_on_region.pickle'\n",
    "\n",
    "with open(cl,'rb') as f: clon = pickle.load(f)\n",
    "\n",
    "diff_excess = np.array(clon['DIFF'])\n",
    "\n",
    "np.median(diff_excess), np.std(diff_excess)"
   ]
  },
  {
   "cell_type": "code",
   "execution_count": 14,
   "id": "48a2d428",
   "metadata": {},
   "outputs": [
    {
     "data": {
      "text/plain": [
       "(-0.027136349337682636, 13.304665355238111)"
      ]
     },
     "execution_count": 14,
     "metadata": {},
     "output_type": "execute_result"
    }
   ],
   "source": [
    "cl = 'data/cleaner_z20_sum_on_region.pickle'\n",
    "\n",
    "with open(cl,'rb') as f: clon = pickle.load(f)\n",
    "\n",
    "diff_excess = np.array(clon['DIFF'])\n",
    "\n",
    "np.median(diff_excess), np.std(diff_excess)"
   ]
  },
  {
   "cell_type": "code",
   "execution_count": 29,
   "id": "59dc7b9d",
   "metadata": {},
   "outputs": [
    {
     "data": {
      "text/plain": [
       "(65.74095919915935, 1648.8280654861433)"
      ]
     },
     "execution_count": 29,
     "metadata": {},
     "output_type": "execute_result"
    }
   ],
   "source": [
    "table = 'data/cleaner_zALL_sum_original_and_diff.pickle'\n",
    "\n",
    "with open(table,'rb') as f: data = pickle.load(f)\n",
    "\n",
    "diff = np.array(data['DIFF'])\n",
    "\n",
    "np.mean(diff), np.std(diff)"
   ]
  },
  {
   "cell_type": "code",
   "execution_count": null,
   "id": "89776595",
   "metadata": {},
   "outputs": [],
   "source": []
  }
 ],
 "metadata": {
  "kernelspec": {
   "display_name": "astroai",
   "language": "python",
   "name": "astroai"
  },
  "language_info": {
   "codemirror_mode": {
    "name": "ipython",
    "version": 3
   },
   "file_extension": ".py",
   "mimetype": "text/x-python",
   "name": "python",
   "nbconvert_exporter": "python",
   "pygments_lexer": "ipython3",
   "version": "3.9.18"
  }
 },
 "nbformat": 4,
 "nbformat_minor": 5
}
