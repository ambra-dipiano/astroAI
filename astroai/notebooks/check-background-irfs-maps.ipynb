{
 "cells": [
  {
   "cell_type": "code",
   "execution_count": 1,
   "id": "3f000f36",
   "metadata": {},
   "outputs": [],
   "source": [
    "import pickle\n",
    "import numpy as np\n",
    "import pandas as pd\n",
    "import matplotlib.pyplot as plt\n",
    "from os import listdir\n",
    "from os.path import join, isfile, expandvars\n",
    "from astropy.io import fits\n",
    "\n",
    "# data\n",
    "irf = 'random' \n",
    "table = 'regressor_5sgm_xy_flip.pickle'\n",
    "path = f'{expandvars(\"$HOME\")}/E4/irf_{irf}/crab/'\n",
    "dataset = join(path, table)\n",
    "\n",
    "# dataset \n",
    "if '.pickle' in table:\n",
    "    with open(dataset,'rb') as f: ds = pickle.load(f)\n",
    "    infotable = join(path, table.replace('.pickle', '.dat'))\n",
    "    gammatable = join(path, table.replace('.pickle', '_gammapy.txt'))\n",
    "elif '.npy' in table:\n",
    "    ds = np.load(dataset, allow_pickle=True, encoding='latin1', fix_imports=True).flat[0]\n",
    "    infotable = join(path, table.replace('.npy', '.dat'))\n",
    "    gammatable = join(path, table.replace('.npy', '_gammapy.txt'))\n",
    "    \n",
    "ds = np.array(ds['DS'])\n",
    "ds = ds.reshape(ds.shape[0], ds.shape[1], ds.shape[2], 1)\n",
    "ds.shape\n",
    "\n",
    "\n",
    "idx = 10"
   ]
  },
  {
   "cell_type": "code",
   "execution_count": null,
   "id": "0e476b08",
   "metadata": {},
   "outputs": [],
   "source": [
    "radius_deg = 0.2\n",
    "radius_pix = radius_deg/0.025\n",
    "figsize = (8, 8)\n",
    "fs = 16\n",
    "\n",
    "# NOISY\n",
    "fig = plt.figure(figsize=figsize)\n",
    "ax = fig.add_subplot(111, projection=w)\n",
    "    \n",
    "img = ax.imshow(ds[idx], vmin=0, vmax=1)\n",
    "ax.set_ylabel('Declination [deg]', fontsize=fs)\n",
    "ax.set_xlabel('Right Ascension [deg]', fontsize=fs)\n",
    "#ax.set_title(f'noisy map {seed}', fontsize=fs*1.5)\n",
    "ax.coords['ra'].set_format_unit(u.deg)\n",
    "ax.coords['dec'].set_format_unit(u.deg)\n",
    "\n",
    "cb = fig.colorbar(img, ax=ax, shrink=0.8)\n",
    "ax.tick_params(axis='both', labelsize=fs)\n",
    "cb.ax.tick_params(labelsize=fs)\n",
    "cb.set_label('normalised counts', fontsize=fs)\n",
    "\n",
    "plt.show()\n",
    "fig.savefig(f'img/check_snr_map_{seed}_{irf}.png')"
   ]
  },
  {
   "cell_type": "code",
   "execution_count": null,
   "id": "29a9a357",
   "metadata": {},
   "outputs": [],
   "source": []
  },
  {
   "cell_type": "code",
   "execution_count": null,
   "id": "de93101e",
   "metadata": {},
   "outputs": [],
   "source": []
  },
  {
   "cell_type": "code",
   "execution_count": null,
   "id": "f6336935",
   "metadata": {},
   "outputs": [],
   "source": []
  }
 ],
 "metadata": {
  "kernelspec": {
   "display_name": "astroai",
   "language": "python",
   "name": "astroai"
  },
  "language_info": {
   "codemirror_mode": {
    "name": "ipython",
    "version": 3
   },
   "file_extension": ".py",
   "mimetype": "text/x-python",
   "name": "python",
   "nbconvert_exporter": "python",
   "pygments_lexer": "ipython3",
   "version": "3.9.18"
  }
 },
 "nbformat": 4,
 "nbformat_minor": 5
}
