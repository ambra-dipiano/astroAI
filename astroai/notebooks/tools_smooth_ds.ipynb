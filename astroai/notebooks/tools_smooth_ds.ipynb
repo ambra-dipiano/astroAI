{
 "cells": [
  {
   "cell_type": "code",
   "execution_count": null,
   "id": "1ad4924e",
   "metadata": {},
   "outputs": [],
   "source": [
    "import pickle\n",
    "import numpy as np\n",
    "from astroai.tools.utils import smooth_heatmap\n",
    "\n",
    "fname = '/home/dipiano/E4/irf_random/crab/cleaner_5sgm.npy'\n",
    "ds = np.load(fname, allow_pickle=True, encoding='latin1', fix_imports=True).flat[0]\n",
    "\n",
    "for i, m in enumerate(ds['DS1']):\n",
    "    m = smooth_heatmap(m, 5)\n",
    "    ds['DS1'][i] = m\n",
    "for i, m in enumerate(ds['DS2']):\n",
    "    m = smooth_heatmap(m, 5)\n",
    "    ds['DS2'][i] = m\n",
    "    \n",
    "with open(fname,'wb') as f: pickle.dump(ds, f, protocol=4)"
   ]
  }
 ],
 "metadata": {
  "kernelspec": {
   "display_name": "astroai",
   "language": "python",
   "name": "astroai"
  },
  "language_info": {
   "codemirror_mode": {
    "name": "ipython",
    "version": 3
   },
   "file_extension": ".py",
   "mimetype": "text/x-python",
   "name": "python",
   "nbconvert_exporter": "python",
   "pygments_lexer": "ipython3",
   "version": "3.9.18"
  }
 },
 "nbformat": 4,
 "nbformat_minor": 5
}
