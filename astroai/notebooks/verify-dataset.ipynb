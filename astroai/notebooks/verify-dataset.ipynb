{
 "cells": [
  {
   "cell_type": "markdown",
   "id": "0a061143",
   "metadata": {},
   "source": [
    "# Open preprocessed dataset and verify"
   ]
  },
  {
   "cell_type": "code",
   "execution_count": 5,
   "id": "64bbfde1",
   "metadata": {},
   "outputs": [
    {
     "data": {
      "text/plain": [
       "dict_keys(['SRC', 'BKG'])"
      ]
     },
     "execution_count": 5,
     "metadata": {},
     "output_type": "execute_result"
    }
   ],
   "source": [
    "import numpy as np\n",
    "\n",
    "filename = '/data01/homes/dipiano/E4/datasets_50s_1000src_1000bkg.npy'\n",
    "\n",
    "ds = np.load(filename, allow_pickle=True, encoding='latin1', fix_imports=True).flat[0]\n",
    "\n",
    "ds.keys()"
   ]
  },
  {
   "cell_type": "code",
   "execution_count": 6,
   "id": "0b623bdd",
   "metadata": {},
   "outputs": [
    {
     "data": {
      "text/plain": [
       "(1000, 250, 250)"
      ]
     },
     "execution_count": 6,
     "metadata": {},
     "output_type": "execute_result"
    }
   ],
   "source": [
    "ds['SRC'].shape"
   ]
  },
  {
   "cell_type": "code",
   "execution_count": null,
   "id": "f9a78eaa",
   "metadata": {},
   "outputs": [],
   "source": []
  }
 ],
 "metadata": {
  "kernelspec": {
   "display_name": "astroai",
   "language": "python",
   "name": "astroai"
  },
  "language_info": {
   "codemirror_mode": {
    "name": "ipython",
    "version": 3
   },
   "file_extension": ".py",
   "mimetype": "text/x-python",
   "name": "python",
   "nbconvert_exporter": "python",
   "pygments_lexer": "ipython3",
   "version": "3.7.4"
  }
 },
 "nbformat": 4,
 "nbformat_minor": 5
}
