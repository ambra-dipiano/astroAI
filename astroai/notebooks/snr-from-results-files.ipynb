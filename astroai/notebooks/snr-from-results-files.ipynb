{
 "cells": [
  {
   "cell_type": "code",
   "execution_count": null,
   "id": "8e9932df-1575-452c-9cfa-dbc6185021b6",
   "metadata": {},
   "outputs": [],
   "source": [
    "import pickle\n",
    "import scipy\n",
    "import numpy as np\n",
    "import pandas as pd\n",
    "import matplotlib.pyplot as plt\n",
    "from scipy import stats\n",
    "\n",
    "zall_file = '/home/dipiano/E4/irf_random/crab/irf_random_full_ds_snr.txt'\n",
    "z20_file = '/home/dipiano/E4/irf_z20/crab/irf_z20_full_ds_snr.txt'\n",
    "\n",
    "zall = pd.read_csv(zall_file, sep=' ', header=0).sort_values(by=['seed']).dropna()\n",
    "z20 = pd.read_csv(z20_file, sep=' ', header=0).sort_values(by=['seed']).dropna()  \n",
    "\n",
    "len(zall), len(z20)"
   ]
  },
  {
   "cell_type": "code",
   "execution_count": null,
   "id": "91014b01",
   "metadata": {
    "scrolled": true
   },
   "outputs": [],
   "source": [
    "zall.head()"
   ]
  },
  {
   "cell_type": "code",
   "execution_count": null,
   "id": "27ba90eb",
   "metadata": {},
   "outputs": [],
   "source": [
    "z20.head()"
   ]
  },
  {
   "cell_type": "code",
   "execution_count": null,
   "id": "0acdd0f9",
   "metadata": {},
   "outputs": [],
   "source": [
    "def snr2(excess, off, alpha):\n",
    "    snr2 = excess / np.sqrt(excess + 2*(off*alpha))\n",
    "    return snr2\n",
    "\n",
    "def snr3(excess, off):\n",
    "    snr3 = excess / np.sqrt(off)\n",
    "    return snr3\n",
    "\n",
    "def snr4(excess, off, alpha):\n",
    "    snr4 = excess / (off*alpha)\n",
    "    return snr4\n",
    "\n",
    "def snr5(excess, off, alpha):\n",
    "    snr5 = excess / np.sqrt(off*alpha)\n",
    "    return snr5"
   ]
  },
  {
   "cell_type": "code",
   "execution_count": null,
   "id": "45c59bd5",
   "metadata": {},
   "outputs": [],
   "source": [
    "zall['snr2'] = snr2(zall['excess'], zall['counts_off'], zall['alpha'])\n",
    "z20['snr2'] = snr2(z20['excess'], z20['counts_off'], z20['alpha'])\n",
    "\n",
    "zall['snr3'] = snr3(zall['excess'], zall['counts_off'])\n",
    "z20['snr3'] = snr3(z20['excess'], z20['counts_off'])\n",
    "\n",
    "zall['snr4'] = snr4(zall['excess'], zall['counts_off'], zall['alpha'])\n",
    "z20['snr4'] = snr4(z20['excess'], z20['counts_off'], z20['alpha'])\n",
    "\n",
    "zall['snr5'] = snr5(zall['excess'], zall['counts_off'], zall['alpha'])\n",
    "z20['snr5'] = snr5(z20['excess'], z20['counts_off'], z20['alpha'])"
   ]
  },
  {
   "cell_type": "code",
   "execution_count": null,
   "id": "781c745c",
   "metadata": {},
   "outputs": [],
   "source": [
    "import matplotlib.patches as mpatches\n",
    "\n",
    "colors = ['orange', 'navy'] # ['navy', 'orange'] # \n",
    "labels = ['random zenith', '20° zenith'] # ['20° zenith', 'random zenith'] # \n",
    "hatches = ['\\\\', '//'] # ['//', '\\\\'] # \n",
    "histsize = (8,8)\n",
    "fs = 16\n",
    "nbins = 50\n",
    "legends = [mpatches.Patch(facecolor='none', edgecolor=colors[0], hatch=hatches[0]), \n",
    "           mpatches.Patch(facecolor='none', edgecolor=colors[1], hatch=hatches[1])]"
   ]
  },
  {
   "cell_type": "code",
   "execution_count": null,
   "id": "1bf335bc",
   "metadata": {},
   "outputs": [],
   "source": [
    "# hist\n",
    "fig = plt.figure(figsize=histsize)\n",
    "ax = fig.add_subplot(111)\n",
    "\n",
    "data = (z20['snr'], zall['snr'])\n",
    "n, bins, patches = ax.hist(data, nbins, density=False, histtype='step', color=colors)\n",
    "ax.tick_params(axis='both', labelsize=fs)\n",
    "ax.set_ylabel('samples in dataset', fontsize=fs)\n",
    "ax.set_xlabel('SNR', fontsize=fs)\n",
    "ax.legend(handles=legends, labels=labels, fontsize=fs)\n",
    "ax.grid()\n",
    "for patch, hatch in zip(patches, hatches):\n",
    "    plt.setp(patch, hatch=hatch)\n",
    "plt.show()\n",
    "fig.savefig(f'img/all_dataset_snr_z20_zALL.png')"
   ]
  },
  {
   "cell_type": "code",
   "execution_count": null,
   "id": "3a2a4e46",
   "metadata": {
    "scrolled": false
   },
   "outputs": [],
   "source": [
    "# hist\n",
    "fig = plt.figure(figsize=histsize)\n",
    "ax = fig.add_subplot(111)\n",
    "\n",
    "data = (z20['snr2'], zall['snr2'])\n",
    "n, bins, patches = ax.hist(data, nbins, density=False, histtype='step', color=colors)\n",
    "ax.tick_params(axis='both', labelsize=fs)\n",
    "ax.set_ylabel('samples in dataset', fontsize=fs)\n",
    "ax.set_xlabel('SNR', fontsize=fs)\n",
    "ax.legend(handles=legends, labels=labels, fontsize=fs)\n",
    "ax.grid()\n",
    "for patch, hatch in zip(patches, hatches):\n",
    "    plt.setp(patch, hatch=hatch)\n",
    "plt.show()\n",
    "fig.savefig(f'img/all_dataset_snr2_z20_zALL.png')"
   ]
  },
  {
   "cell_type": "code",
   "execution_count": null,
   "id": "054ed0f4",
   "metadata": {},
   "outputs": [],
   "source": [
    "# hist\n",
    "fig = plt.figure(figsize=histsize)\n",
    "ax = fig.add_subplot(111)\n",
    "\n",
    "data = (z20['snr3'], zall['snr3'])\n",
    "n, bins, patches = ax.hist(data, nbins, density=False, histtype='step', color=colors)\n",
    "ax.tick_params(axis='both', labelsize=fs)\n",
    "ax.set_ylabel('samples in dataset', fontsize=fs)\n",
    "ax.set_xlabel('SNR', fontsize=fs)\n",
    "ax.legend(handles=legends, labels=labels, fontsize=fs)\n",
    "ax.grid()\n",
    "for patch, hatch in zip(patches, hatches):\n",
    "    plt.setp(patch, hatch=hatch)\n",
    "plt.show()\n",
    "fig.savefig(f'img/all_dataset_snr3_z20_zALL.png')"
   ]
  },
  {
   "cell_type": "code",
   "execution_count": null,
   "id": "333501f9",
   "metadata": {},
   "outputs": [],
   "source": [
    "# hist\n",
    "fig = plt.figure(figsize=histsize)\n",
    "ax = fig.add_subplot(111)\n",
    "\n",
    "data = (z20['snr4'], zall['snr4'])\n",
    "n, bins, patches = ax.hist(data, nbins, density=False, histtype='step', color=colors)\n",
    "ax.tick_params(axis='both', labelsize=fs)\n",
    "ax.set_ylabel('samples in dataset', fontsize=fs)\n",
    "ax.set_xlabel('SNR', fontsize=fs)\n",
    "ax.legend(handles=legends, labels=labels, fontsize=fs)\n",
    "ax.grid()\n",
    "for patch, hatch in zip(patches, hatches):\n",
    "    plt.setp(patch, hatch=hatch)\n",
    "plt.show()\n",
    "fig.savefig(f'img/all_dataset_snr4_z20_zALL.png')"
   ]
  },
  {
   "cell_type": "code",
   "execution_count": null,
   "id": "10d0350c",
   "metadata": {},
   "outputs": [],
   "source": [
    "# hist\n",
    "fig = plt.figure(figsize=histsize)\n",
    "ax = fig.add_subplot(111)\n",
    "\n",
    "data = (z20['snr5'], zall['snr5'])\n",
    "n, bins, patches = ax.hist(data, nbins, density=False, histtype='step', color=colors)\n",
    "ax.tick_params(axis='both', labelsize=fs)\n",
    "ax.set_ylabel('samples in dataset', fontsize=fs)\n",
    "ax.set_xlabel('SNR', fontsize=fs)\n",
    "ax.legend(handles=legends, labels=labels, fontsize=fs)\n",
    "ax.grid()\n",
    "for patch, hatch in zip(patches, hatches):\n",
    "    plt.setp(patch, hatch=hatch)\n",
    "plt.show()\n",
    "fig.savefig(f'img/all_dataset_snr5_z20_zALL.png')"
   ]
  },
  {
   "cell_type": "code",
   "execution_count": null,
   "id": "f4765fa3",
   "metadata": {},
   "outputs": [],
   "source": [
    "# hist\n",
    "fig = plt.figure(figsize=histsize)\n",
    "ax = fig.add_subplot(111)\n",
    "\n",
    "data = (z20['excess'], zall['excess'])\n",
    "n, bins, patches = ax.hist(data, nbins, density=False, histtype='step', color=colors)\n",
    "ax.tick_params(axis='both', labelsize=fs)\n",
    "ax.set_ylabel('samples in dataset', fontsize=fs)\n",
    "ax.set_xlabel('source excess', fontsize=fs)\n",
    "ax.legend(handles=legends, labels=labels, fontsize=fs)\n",
    "ax.grid()\n",
    "for patch, hatch in zip(patches, hatches):\n",
    "    plt.setp(patch, hatch=hatch)\n",
    "plt.show()\n",
    "fig.savefig(f'img/all_dataset_excess_z20_zALL.png')"
   ]
  },
  {
   "cell_type": "code",
   "execution_count": null,
   "id": "3997ba66",
   "metadata": {},
   "outputs": [],
   "source": [
    "# hist\n",
    "fig = plt.figure(figsize=histsize)\n",
    "ax = fig.add_subplot(111)\n",
    "\n",
    "data = (z20['counts_off'], zall['counts_off'])\n",
    "n, bins, patches = ax.hist(data, nbins, density=False, histtype='step', color=colors)\n",
    "ax.tick_params(axis='both', labelsize=fs)\n",
    "ax.set_ylabel('samples in dataset', fontsize=fs)\n",
    "ax.set_xlabel('background counts', fontsize=fs)\n",
    "ax.legend(handles=legends, labels=labels, fontsize=fs)\n",
    "ax.grid()\n",
    "for patch, hatch in zip(patches, hatches):\n",
    "    plt.setp(patch, hatch=hatch)\n",
    "plt.show()\n",
    "fig.savefig(f'img/all_dataset_offcounts_z20_zALL.png')"
   ]
  },
  {
   "cell_type": "code",
   "execution_count": null,
   "id": "769c94f5",
   "metadata": {},
   "outputs": [],
   "source": [
    "# hist\n",
    "fig = plt.figure(figsize=histsize)\n",
    "ax = fig.add_subplot(111)\n",
    "\n",
    "data = (z20['counts_off']*z20['alpha'], zall['counts_off']*zall['alpha'])\n",
    "n, bins, patches = ax.hist(data, nbins, density=False, histtype='step', color=colors)\n",
    "ax.tick_params(axis='both', labelsize=fs)\n",
    "ax.set_ylabel('samples in dataset', fontsize=fs)\n",
    "ax.set_xlabel('background counts', fontsize=fs)\n",
    "ax.legend(handles=legends, labels=labels, fontsize=fs)\n",
    "ax.grid()\n",
    "for patch, hatch in zip(patches, hatches):\n",
    "    plt.setp(patch, hatch=hatch)\n",
    "plt.show()\n",
    "fig.savefig(f'img/all_dataset_offcounts_normed_z20_zALL.png')"
   ]
  },
  {
   "cell_type": "code",
   "execution_count": null,
   "id": "89776595",
   "metadata": {},
   "outputs": [],
   "source": [
    "# hist\n",
    "fig = plt.figure(figsize=histsize)\n",
    "ax = fig.add_subplot(111)\n",
    "\n",
    "data = (z20['counts_on'], zall['counts_on'])\n",
    "n, bins, patches = ax.hist(data, nbins, density=False, histtype='step', color=colors)\n",
    "ax.tick_params(axis='both', labelsize=fs)\n",
    "ax.set_ylabel('samples in dataset', fontsize=fs)\n",
    "ax.set_xlabel('source region counts', fontsize=fs)\n",
    "ax.legend(handles=legends, labels=labels, fontsize=fs)\n",
    "ax.grid()\n",
    "for patch, hatch in zip(patches, hatches):\n",
    "    plt.setp(patch, hatch=hatch)\n",
    "plt.show()\n",
    "fig.savefig(f'img/all_dataset_oncounts_z20_zALL.png')"
   ]
  },
  {
   "cell_type": "code",
   "execution_count": null,
   "id": "ba274dd6",
   "metadata": {},
   "outputs": [],
   "source": [
    "# hist\n",
    "fig = plt.figure(figsize=histsize)\n",
    "ax = fig.add_subplot(111)\n",
    "\n",
    "data = (z20['sigma'], zall['sigma'])\n",
    "n, bins, patches = ax.hist(data, nbins, density=False, histtype='step', color=colors)\n",
    "ax.tick_params(axis='both', labelsize=fs)\n",
    "ax.set_ylabel('samples in dataset', fontsize=fs)\n",
    "ax.set_xlabel(r'sigma ($\\sigma$)', fontsize=fs)\n",
    "ax.legend(handles=legends, labels=labels, fontsize=fs)\n",
    "ax.grid()\n",
    "for patch, hatch in zip(patches, hatches):\n",
    "    plt.setp(patch, hatch=hatch)\n",
    "plt.show()\n",
    "fig.savefig(f'img/all_dataset_sigma_z20_zALL.png')"
   ]
  },
  {
   "cell_type": "code",
   "execution_count": null,
   "id": "1b4fab11",
   "metadata": {},
   "outputs": [],
   "source": [
    "# hist\n",
    "fig = plt.figure(figsize=histsize)\n",
    "ax = fig.add_subplot(111)\n",
    "\n",
    "data = (z20['alpha'], zall['alpha'])\n",
    "n, bins, patches = ax.hist(data, nbins, density=False, histtype='step', color=colors)\n",
    "ax.tick_params(axis='both', labelsize=fs)\n",
    "ax.set_ylabel('samples in dataset', fontsize=fs)\n",
    "ax.set_xlabel(r'$\\alpha \\; (1/N_{reg})$', fontsize=fs)\n",
    "ax.legend(handles=legends, labels=labels, fontsize=fs)\n",
    "ax.grid()\n",
    "for patch, hatch in zip(patches, hatches):\n",
    "    plt.setp(patch, hatch=hatch)\n",
    "plt.show()\n",
    "fig.savefig(f'img/all_dataset_alpha_z20_zALL.png')"
   ]
  },
  {
   "cell_type": "code",
   "execution_count": null,
   "id": "04bbf14b",
   "metadata": {},
   "outputs": [],
   "source": [
    "# hist\n",
    "fig = plt.figure(figsize=histsize)\n",
    "ax = fig.add_subplot(111)\n",
    "\n",
    "data = (z20['offset'], zall['offset'])\n",
    "n, bins, patches = ax.hist(data, 20, density=False, histtype='step', color=colors)\n",
    "ax.tick_params(axis='both', labelsize=fs)\n",
    "ax.set_ylabel('samples in dataset', fontsize=fs)\n",
    "ax.set_xlabel(r'$\\alpha \\; (1/N_{reg})$', fontsize=fs)\n",
    "ax.legend(handles=legends, labels=labels, fontsize=fs)\n",
    "ax.grid()\n",
    "for patch, hatch in zip(patches, hatches):\n",
    "    plt.setp(patch, hatch=hatch)\n",
    "plt.show()\n",
    "fig.savefig(f'img/all_dataset_offset_z20_zALL.png')"
   ]
  },
  {
   "cell_type": "code",
   "execution_count": null,
   "id": "a1dab1ff",
   "metadata": {},
   "outputs": [],
   "source": [
    "# hist\n",
    "fig = plt.figure(figsize=histsize)\n",
    "ax = fig.add_subplot(111)\n",
    "\n",
    "data = (zall['snr5'])\n",
    "n, bins, patches = ax.hist(data, nbins, density=False, histtype='step', color=colors[-1])\n",
    "ax.tick_params(axis='both', labelsize=fs)\n",
    "ax.set_ylabel('samples in dataset', fontsize=fs)\n",
    "ax.set_xlabel('SNR', fontsize=fs)\n",
    "#ax.legend(handles=legends, labels=labels, fontsize=fs)\n",
    "ax.grid()\n",
    "for patch, hatch in zip(patches, hatches):\n",
    "    plt.setp(patch, hatch=hatch)\n",
    "plt.show()\n",
    "fig.savefig(f'img/zALL_dataset_snr5.png')"
   ]
  },
  {
   "cell_type": "code",
   "execution_count": null,
   "id": "a1db670c",
   "metadata": {},
   "outputs": [],
   "source": []
  },
  {
   "cell_type": "code",
   "execution_count": null,
   "id": "c012c768",
   "metadata": {},
   "outputs": [],
   "source": []
  },
  {
   "cell_type": "code",
   "execution_count": null,
   "id": "9182e21e",
   "metadata": {},
   "outputs": [],
   "source": []
  }
 ],
 "metadata": {
  "kernelspec": {
   "display_name": "astroai",
   "language": "python",
   "name": "astroai"
  },
  "language_info": {
   "codemirror_mode": {
    "name": "ipython",
    "version": 3
   },
   "file_extension": ".py",
   "mimetype": "text/x-python",
   "name": "python",
   "nbconvert_exporter": "python",
   "pygments_lexer": "ipython3",
   "version": "3.9.18"
  }
 },
 "nbformat": 4,
 "nbformat_minor": 5
}
