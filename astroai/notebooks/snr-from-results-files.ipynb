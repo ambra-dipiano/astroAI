{
 "cells": [
  {
   "cell_type": "code",
   "execution_count": 2,
   "id": "8e9932df-1575-452c-9cfa-dbc6185021b6",
   "metadata": {},
   "outputs": [
    {
     "data": {
      "text/plain": [
       "(9357, 0)"
      ]
     },
     "execution_count": 2,
     "metadata": {},
     "output_type": "execute_result"
    }
   ],
   "source": [
    "import pickle\n",
    "import scipy\n",
    "import numpy as np\n",
    "import pandas as pd\n",
    "import matplotlib.pyplot as plt\n",
    "from scipy import stats\n",
    "\n",
    "zall_file = '/home/dipiano/E4/irf_random/crab/regressor_full_dataset_statis_snr.txt'\n",
    "z20_file = '/home/dipiano/E4/irf_z20/crab/regressor_full_dataset_statis_snr.txt'\n",
    "\n",
    "zall = pd.read_csv(zall_file, sep=' ', header=0).sort_values(by=['seed'])\n",
    "z20 = pd.read_csv(z20_file, sep=' ', header=0).sort_values(by=['seed'])  \n",
    "\n",
    "len(zall), len(z20)"
   ]
  },
  {
   "cell_type": "code",
   "execution_count": null,
   "id": "91014b01",
   "metadata": {},
   "outputs": [],
   "source": [
    "zall.head()"
   ]
  },
  {
   "cell_type": "code",
   "execution_count": null,
   "id": "27ba90eb",
   "metadata": {},
   "outputs": [],
   "source": [
    "z20.head()"
   ]
  },
  {
   "cell_type": "code",
   "execution_count": null,
   "id": "1bf335bc",
   "metadata": {},
   "outputs": [],
   "source": []
  },
  {
   "cell_type": "code",
   "execution_count": null,
   "id": "b3682cd4",
   "metadata": {},
   "outputs": [],
   "source": []
  },
  {
   "cell_type": "code",
   "execution_count": null,
   "id": "f4765fa3",
   "metadata": {},
   "outputs": [],
   "source": []
  },
  {
   "cell_type": "code",
   "execution_count": null,
   "id": "3997ba66",
   "metadata": {},
   "outputs": [],
   "source": []
  },
  {
   "cell_type": "code",
   "execution_count": null,
   "id": "89776595",
   "metadata": {},
   "outputs": [],
   "source": []
  }
 ],
 "metadata": {
  "kernelspec": {
   "display_name": "astroai",
   "language": "python",
   "name": "astroai"
  },
  "language_info": {
   "codemirror_mode": {
    "name": "ipython",
    "version": 3
   },
   "file_extension": ".py",
   "mimetype": "text/x-python",
   "name": "python",
   "nbconvert_exporter": "python",
   "pygments_lexer": "ipython3",
   "version": "3.9.18"
  }
 },
 "nbformat": 4,
 "nbformat_minor": 5
}
