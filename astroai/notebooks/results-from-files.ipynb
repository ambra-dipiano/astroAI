{
 "cells": [
  {
   "cell_type": "code",
   "execution_count": null,
   "id": "e32b513d",
   "metadata": {},
   "outputs": [],
   "source": [
    "import pickle\n",
    "import scipy\n",
    "import numpy as np\n",
    "import pandas as pd\n",
    "import matplotlib.pyplot as plt\n",
    "from scipy import stats\n",
    "\n",
    "z = 'zALL'"
   ]
  },
  {
   "cell_type": "code",
   "execution_count": null,
   "id": "2f94f205",
   "metadata": {},
   "outputs": [],
   "source": [
    "import matplotlib.patches as mpatches\n",
    "\n",
    "colors = ['navy', 'crimson']\n",
    "labels = ['CNN/cleaner', 'ACADA/SAG (rel1)']\n",
    "hatches = ['\\\\', '//']\n",
    "histsize = (8,8)\n",
    "fs = 16\n",
    "nbins = 20\n",
    "legends = [mpatches.Patch(facecolor='none', edgecolor=colors[0], hatch=hatches[0]), \n",
    "           mpatches.Patch(facecolor='none', edgecolor=colors[1], hatch=hatches[1])]"
   ]
  },
  {
   "cell_type": "markdown",
   "id": "4220b014",
   "metadata": {},
   "source": [
    "# Sum Residuals"
   ]
  },
  {
   "cell_type": "code",
   "execution_count": null,
   "id": "66b11bde",
   "metadata": {},
   "outputs": [],
   "source": [
    "table = f'data/cleaner_{z}_sum_residuals.pickle'\n",
    "with open(table,'rb') as f: ds = pickle.load(f)\n",
    "    \n",
    "ds.keys()"
   ]
  },
  {
   "cell_type": "code",
   "execution_count": null,
   "id": "fc7d0406",
   "metadata": {},
   "outputs": [],
   "source": [
    "# hist\n",
    "fig = plt.figure(figsize=histsize)\n",
    "ax = fig.add_subplot(111)\n",
    "\n",
    "data = (np.abs(ds['CNN']), np.abs(ds['STD']))\n",
    "n, bins, patches = ax.hist(data, nbins, density=False, histtype='step', color=colors, label=labels)\n",
    "ax.tick_params(axis='both', labelsize=fs)\n",
    "ax.set_ylabel('samples in dataset', fontsize=fs)\n",
    "ax.set_xlabel('residual counts', fontsize=fs)\n",
    "ax.legend(handles=legends, labels=labels, fontsize=fs)\n",
    "ax.grid()\n",
    "for patch, hatch in zip(patches, hatches):\n",
    "    plt.setp(patch, hatch=hatch)\n",
    "plt.tight_layout()\n",
    "fig.savefig(f'tesi/2_{z}_residuals.png')\n",
    "plt.show()"
   ]
  },
  {
   "cell_type": "code",
   "execution_count": null,
   "id": "833a3420",
   "metadata": {},
   "outputs": [],
   "source": [
    "# hist\n",
    "fig = plt.figure(figsize=histsize)\n",
    "ax = fig.add_subplot(111)\n",
    "\n",
    "data = (np.abs(ds['STD']) - np.abs(ds['CNN']))\n",
    "n, bins, patches = ax.hist(data, nbins, density=False, histtype='step', color='green')\n",
    "ax.tick_params(axis='both', labelsize=fs)\n",
    "ax.set_ylabel('samples in dataset', fontsize=fs)\n",
    "ax.set_xlabel('residual counts', fontsize=fs)\n",
    "ax.grid()\n",
    "for patch, hatch in zip(patches, hatches):\n",
    "    plt.setp(patch, hatch=hatch)\n",
    "plt.tight_layout()\n",
    "fig.savefig(f'tesi/2_{z}_residuals_diff.png')\n",
    "plt.show()"
   ]
  },
  {
   "cell_type": "code",
   "execution_count": null,
   "id": "4b46ec24",
   "metadata": {},
   "outputs": [],
   "source": [
    "# hist\n",
    "fig = plt.figure(figsize=histsize)\n",
    "ax = fig.add_subplot(111)\n",
    "\n",
    "data = np.array(np.abs(ds['STD']) - np.abs(ds['CNN']))/np.array(ds['STD'])\n",
    "n, bins, patches = ax.hist(data, nbins, density=False, histtype='step', color='green')\n",
    "ax.tick_params(axis='both', labelsize=fs)\n",
    "ax.set_ylabel('samples in dataset', fontsize=fs)\n",
    "ax.set_xlabel('residual counts', fontsize=fs)\n",
    "ax.grid()\n",
    "for patch, hatch in zip(patches, hatches):\n",
    "    plt.setp(patch, hatch=hatch)\n",
    "plt.tight_layout()\n",
    "fig.savefig(f'tesi/2_{z}_residuals_diff.png')\n",
    "plt.show()"
   ]
  },
  {
   "cell_type": "markdown",
   "id": "d3b69f6d",
   "metadata": {},
   "source": [
    "# Sum FOV"
   ]
  },
  {
   "cell_type": "code",
   "execution_count": null,
   "id": "40959b97",
   "metadata": {},
   "outputs": [],
   "source": [
    "table = f'data/cleaner_{z}_sum_fov.pickle'\n",
    "with open(table,'rb') as f: ds = pickle.load(f)\n",
    "    \n",
    "ds.keys()"
   ]
  },
  {
   "cell_type": "code",
   "execution_count": null,
   "id": "1595f33f",
   "metadata": {},
   "outputs": [],
   "source": [
    "# hist\n",
    "fig = plt.figure(figsize=histsize)\n",
    "ax = fig.add_subplot(111)\n",
    "\n",
    "data = (ds['CNN'], ds['STD'])\n",
    "n, bins, patches = ax.hist(data, nbins, density=False, histtype='step', color=colors, label=labels)\n",
    "ax.tick_params(axis='both', labelsize=fs)\n",
    "ax.set_ylabel('samples in dataset', fontsize=fs)\n",
    "ax.set_xlabel('denoised FOV counts', fontsize=fs)\n",
    "ax.legend(handles=legends, labels=labels, fontsize=fs)\n",
    "ax.grid()\n",
    "for patch, hatch in zip(patches, hatches):\n",
    "    plt.setp(patch, hatch=hatch)\n",
    "plt.tight_layout()\n",
    "fig.savefig(f'tesi/2_{z}_fov_denoised.png')\n",
    "plt.show()"
   ]
  },
  {
   "cell_type": "code",
   "execution_count": null,
   "id": "971a72a8",
   "metadata": {},
   "outputs": [],
   "source": [
    "# hist\n",
    "fig = plt.figure(figsize=histsize)\n",
    "ax = fig.add_subplot(111)\n",
    "\n",
    "data = (ds['NOISY'])\n",
    "n, bins, patches = ax.hist(data, nbins, density=False, histtype='step', color='green')\n",
    "ax.tick_params(axis='both', labelsize=fs)\n",
    "ax.set_ylabel('samples in dataset', fontsize=fs)\n",
    "ax.set_xlabel('FOV counts', fontsize=fs)\n",
    "ax.grid()\n",
    "for patch, hatch in zip(patches, hatches):\n",
    "    plt.setp(patch, hatch=hatch)\n",
    "plt.tight_layout()\n",
    "fig.savefig(f'tesi/2_{z}_fov_noisy.png')\n",
    "plt.show()"
   ]
  },
  {
   "cell_type": "code",
   "execution_count": null,
   "id": "615cdede",
   "metadata": {},
   "outputs": [],
   "source": [
    "# hist\n",
    "fig = plt.figure(figsize=histsize)\n",
    "ax = fig.add_subplot(111)\n",
    "\n",
    "data = (ds['DIFF'])\n",
    "n, bins, patches = ax.hist(data, nbins, density=False, histtype='step', color='green')\n",
    "ax.tick_params(axis='both', labelsize=fs)\n",
    "ax.set_ylabel('samples in dataset', fontsize=fs)\n",
    "ax.set_xlabel('(std - cnn) FOV counts', fontsize=fs)\n",
    "ax.grid()\n",
    "for patch, hatch in zip(patches, hatches):\n",
    "    plt.setp(patch, hatch=hatch)\n",
    "plt.tight_layout()\n",
    "fig.savefig(f'tesi/2_{z}_fov_denoised_diff.png')\n",
    "plt.show()"
   ]
  },
  {
   "cell_type": "markdown",
   "id": "8a372be1",
   "metadata": {},
   "source": [
    "# Sum ON "
   ]
  },
  {
   "cell_type": "code",
   "execution_count": null,
   "id": "bb915580",
   "metadata": {},
   "outputs": [],
   "source": [
    "table = f'data/cleaner_{z}_sum_on_region.pickle'\n",
    "with open(table,'rb') as f: ds = pickle.load(f)\n",
    "    \n",
    "ds.keys()"
   ]
  },
  {
   "cell_type": "code",
   "execution_count": null,
   "id": "e85878eb",
   "metadata": {},
   "outputs": [],
   "source": [
    "# hist\n",
    "fig = plt.figure(figsize=histsize)\n",
    "ax = fig.add_subplot(111)\n",
    "\n",
    "data = (ds['CNN'], ds['STD'])\n",
    "n, bins, patches = ax.hist(data, nbins, density=False, histtype='step', color=colors, label=labels)\n",
    "ax.tick_params(axis='both', labelsize=fs)\n",
    "ax.set_ylabel('samples in dataset', fontsize=fs)\n",
    "ax.set_xlabel('source excess', fontsize=fs)\n",
    "ax.legend(handles=legends, labels=labels, fontsize=fs)\n",
    "ax.grid()\n",
    "for patch, hatch in zip(patches, hatches):\n",
    "    plt.setp(patch, hatch=hatch)\n",
    "plt.tight_layout()\n",
    "fig.savefig(f'tesi/2_{z}_on_excess.png')\n",
    "plt.show()"
   ]
  },
  {
   "cell_type": "code",
   "execution_count": null,
   "id": "fcbe4569",
   "metadata": {},
   "outputs": [],
   "source": [
    "# hist\n",
    "fig = plt.figure(figsize=histsize)\n",
    "ax = fig.add_subplot(111)\n",
    "\n",
    "data = (ds['DIFF'])\n",
    "n, bins, patches = ax.hist(data, nbins, density=False, histtype='step', color='green')\n",
    "ax.tick_params(axis='both', labelsize=fs)\n",
    "ax.set_ylabel('samples in dataset', fontsize=fs)\n",
    "ax.set_xlabel('(std - cnn) source excess', fontsize=fs)\n",
    "ax.grid()\n",
    "for patch, hatch in zip(patches, hatches):\n",
    "    plt.setp(patch, hatch=hatch)\n",
    "plt.tight_layout()\n",
    "fig.savefig(f'tesi/2_{z}_on_excess_diff.png')\n",
    "plt.show()"
   ]
  },
  {
   "cell_type": "code",
   "execution_count": null,
   "id": "1c9cd90d",
   "metadata": {},
   "outputs": [],
   "source": [
    "# hist\n",
    "fig = plt.figure(figsize=histsize)\n",
    "ax = fig.add_subplot(111)\n",
    "\n",
    "data = np.abs((np.array(ds['CNN']) - np.array(ds['STD']))/np.array(ds['STD'])) *10\n",
    "n, bins, patches = ax.hist(data, nbins, density=False, histtype='step', color='green')\n",
    "ax.tick_params(axis='both', labelsize=fs)\n",
    "ax.set_ylabel('samples in dataset', fontsize=fs)\n",
    "ax.set_xlabel('source excess error (%)', fontsize=fs)\n",
    "ax.grid()\n",
    "for patch, hatch in zip(patches, hatches):\n",
    "    plt.setp(patch, hatch=hatch)\n",
    "plt.tight_layout()\n",
    "fig.savefig(f'tesi/2_{z}_on_excess_percent_err.png')\n",
    "plt.show()"
   ]
  },
  {
   "cell_type": "code",
   "execution_count": null,
   "id": "4db69ed3",
   "metadata": {},
   "outputs": [],
   "source": []
  },
  {
   "cell_type": "code",
   "execution_count": null,
   "id": "f10f4005",
   "metadata": {},
   "outputs": [],
   "source": []
  },
  {
   "cell_type": "code",
   "execution_count": null,
   "id": "1036e122",
   "metadata": {},
   "outputs": [],
   "source": []
  },
  {
   "cell_type": "code",
   "execution_count": null,
   "id": "79a86929",
   "metadata": {},
   "outputs": [],
   "source": []
  },
  {
   "cell_type": "code",
   "execution_count": null,
   "id": "c71147d2",
   "metadata": {},
   "outputs": [],
   "source": []
  },
  {
   "cell_type": "code",
   "execution_count": null,
   "id": "cb3849d0",
   "metadata": {},
   "outputs": [],
   "source": []
  },
  {
   "cell_type": "code",
   "execution_count": null,
   "id": "64d7da44",
   "metadata": {},
   "outputs": [],
   "source": []
  }
 ],
 "metadata": {
  "kernelspec": {
   "display_name": "astroai",
   "language": "python",
   "name": "astroai"
  },
  "language_info": {
   "codemirror_mode": {
    "name": "ipython",
    "version": 3
   },
   "file_extension": ".py",
   "mimetype": "text/x-python",
   "name": "python",
   "nbconvert_exporter": "python",
   "pygments_lexer": "ipython3",
   "version": "3.9.18"
  }
 },
 "nbformat": 4,
 "nbformat_minor": 5
}
