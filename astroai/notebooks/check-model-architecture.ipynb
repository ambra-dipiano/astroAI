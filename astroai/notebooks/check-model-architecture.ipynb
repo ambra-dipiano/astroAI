{
 "cells": [
  {
   "cell_type": "markdown",
   "id": "ef2d5733",
   "metadata": {},
   "source": [
    "# NEW CLEANER"
   ]
  },
  {
   "cell_type": "code",
   "execution_count": 1,
   "id": "aafcb897",
   "metadata": {},
   "outputs": [
    {
     "name": "stderr",
     "output_type": "stream",
     "text": [
      "2024-02-15 18:36:42.333458: I tensorflow/core/platform/cpu_feature_guard.cc:193] This TensorFlow binary is optimized with oneAPI Deep Neural Network Library (oneDNN) to use the following CPU instructions in performance-critical operations:  AVX2 FMA\n",
      "To enable them in other operations, rebuild TensorFlow with the appropriate compiler flags.\n",
      "2024-02-15 18:36:42.501734: W tensorflow/compiler/xla/stream_executor/platform/default/dso_loader.cc:64] Could not load dynamic library 'libcudart.so.11.0'; dlerror: libcudart.so.11.0: cannot open shared object file: No such file or directory\n",
      "2024-02-15 18:36:42.501773: I tensorflow/compiler/xla/stream_executor/cuda/cudart_stub.cc:29] Ignore above cudart dlerror if you do not have a GPU set up on your machine.\n",
      "2024-02-15 18:36:43.408337: W tensorflow/compiler/xla/stream_executor/platform/default/dso_loader.cc:64] Could not load dynamic library 'libnvinfer.so.7'; dlerror: libnvinfer.so.7: cannot open shared object file: No such file or directory\n",
      "2024-02-15 18:36:43.408427: W tensorflow/compiler/xla/stream_executor/platform/default/dso_loader.cc:64] Could not load dynamic library 'libnvinfer_plugin.so.7'; dlerror: libnvinfer_plugin.so.7: cannot open shared object file: No such file or directory\n",
      "2024-02-15 18:36:43.408440: W tensorflow/compiler/tf2tensorrt/utils/py_utils.cc:38] TF-TRT Warning: Cannot dlopen some TensorRT libraries. If you would like to use Nvidia GPU with TensorRT, please make sure the missing libraries mentioned above are installed properly.\n"
     ]
    },
    {
     "name": "stdout",
     "output_type": "stream",
     "text": [
      "Model: \"model\"\n",
      "_________________________________________________________________\n",
      " Layer (type)                Output Shape              Param #   \n",
      "=================================================================\n",
      " input_1 (InputLayer)        [(None, 200, 200, 1)]     0         \n",
      "                                                                 \n",
      " conv2d (Conv2D)             (None, 200, 200, 12)      60        \n",
      "                                                                 \n",
      " average_pooling2d (AverageP  (None, 100, 100, 12)     0         \n",
      " ooling2D)                                                       \n",
      "                                                                 \n",
      " conv2d_1 (Conv2D)           (None, 100, 100, 12)      588       \n",
      "                                                                 \n",
      " average_pooling2d_1 (Averag  (None, 50, 50, 12)       0         \n",
      " ePooling2D)                                                     \n",
      "                                                                 \n",
      " conv2d_2 (Conv2D)           (None, 50, 50, 12)        588       \n",
      "                                                                 \n",
      " average_pooling2d_2 (Averag  (None, 25, 25, 12)       0         \n",
      " ePooling2D)                                                     \n",
      "                                                                 \n",
      " conv2d_3 (Conv2D)           (None, 25, 25, 12)        588       \n",
      "                                                                 \n",
      " up_sampling2d (UpSampling2D  (None, 50, 50, 12)       0         \n",
      " )                                                               \n",
      "                                                                 \n",
      " conv2d_4 (Conv2D)           (None, 50, 50, 12)        588       \n",
      "                                                                 \n",
      " up_sampling2d_1 (UpSampling  (None, 100, 100, 12)     0         \n",
      " 2D)                                                             \n",
      "                                                                 \n",
      " conv2d_5 (Conv2D)           (None, 100, 100, 12)      588       \n",
      "                                                                 \n",
      " up_sampling2d_2 (UpSampling  (None, 200, 200, 12)     0         \n",
      " 2D)                                                             \n",
      "                                                                 \n",
      " conv2d_6 (Conv2D)           (None, 200, 200, 1)       49        \n",
      "                                                                 \n",
      "=================================================================\n",
      "Total params: 3,049\n",
      "Trainable params: 3,049\n",
      "Non-trainable params: 0\n",
      "_________________________________________________________________\n"
     ]
    },
    {
     "name": "stderr",
     "output_type": "stream",
     "text": [
      "2024-02-15 18:36:45.809711: E tensorflow/compiler/xla/stream_executor/cuda/cuda_driver.cc:267] failed call to cuInit: CUDA_ERROR_UNKNOWN: unknown error\n",
      "2024-02-15 18:36:45.809843: I tensorflow/compiler/xla/stream_executor/cuda/cuda_diagnostics.cc:156] kernel driver does not appear to be running on this host (morgana): /proc/driver/nvidia/version does not exist\n",
      "2024-02-15 18:36:45.811116: I tensorflow/core/platform/cpu_feature_guard.cc:193] This TensorFlow binary is optimized with oneAPI Deep Neural Network Library (oneDNN) to use the following CPU instructions in performance-critical operations:  AVX2 FMA\n",
      "To enable them in other operations, rebuild TensorFlow with the appropriate compiler flags.\n"
     ]
    }
   ],
   "source": [
    "from astroai.models.cnn import create_bkg_cleaner\n",
    "\n",
    "fov = 2.5\n",
    "binning = 200\n",
    "pixel = 2*fov/binning\n",
    "\n",
    "# cleaner\n",
    "encoder = 2\n",
    "decoder = 1\n",
    "conv_filter = 12\n",
    "conv_kern = 2\n",
    "pool_kern = 2\n",
    "\n",
    "\n",
    "model = create_bkg_cleaner(binning, encoder=encoder, decoder=decoder, \n",
    "                           conv_filter=conv_filter, conv_kern=conv_kern, pool_kern=pool_kern)"
   ]
  },
  {
   "cell_type": "markdown",
   "id": "f3c86c9b",
   "metadata": {},
   "source": [
    "# NEW REGRESSOR"
   ]
  },
  {
   "cell_type": "code",
   "execution_count": 11,
   "id": "7457229d",
   "metadata": {},
   "outputs": [
    {
     "name": "stdout",
     "output_type": "stream",
     "text": [
      "Model: \"sequential_8\"\n",
      "_________________________________________________________________\n",
      " Layer (type)                Output Shape              Param #   \n",
      "=================================================================\n",
      " conv2d_30 (Conv2D)          (None, 197, 197, 6)       102       \n",
      "                                                                 \n",
      " max_pooling2d_16 (MaxPoolin  (None, 98, 98, 6)        0         \n",
      " g2D)                                                            \n",
      "                                                                 \n",
      " conv2d_31 (Conv2D)          (None, 97, 97, 12)        300       \n",
      "                                                                 \n",
      " conv2d_32 (Conv2D)          (None, 96, 96, 12)        588       \n",
      "                                                                 \n",
      " max_pooling2d_17 (MaxPoolin  (None, 48, 48, 12)       0         \n",
      " g2D)                                                            \n",
      "                                                                 \n",
      " dropout_16 (Dropout)        (None, 48, 48, 12)        0         \n",
      "                                                                 \n",
      " flatten_8 (Flatten)         (None, 27648)             0         \n",
      "                                                                 \n",
      " dense_16 (Dense)            (None, 10)                276490    \n",
      "                                                                 \n",
      " dropout_17 (Dropout)        (None, 10)                0         \n",
      "                                                                 \n",
      " dense_17 (Dense)            (None, 2)                 22        \n",
      "                                                                 \n",
      "=================================================================\n",
      "Total params: 277,502\n",
      "Trainable params: 277,502\n",
      "Non-trainable params: 0\n",
      "_________________________________________________________________\n"
     ]
    },
    {
     "data": {
      "text/plain": [
       "<keras.engine.sequential.Sequential at 0x7f4f44157250>"
      ]
     },
     "execution_count": 11,
     "metadata": {},
     "output_type": "execute_result"
    }
   ],
   "source": [
    "from astroai.models.cnn import create_loc_regressor\n",
    "\n",
    "fov = 2.5\n",
    "binning = 200\n",
    "pixel = 2*fov/binning\n",
    "\n",
    "# regressor\n",
    "number_convs = 2\n",
    "conv_filter = 6\n",
    "conv_kernel = 2\n",
    "sampling_kernel = 2\n",
    "dropout = 0.2\n",
    "dense = 10\n",
    "    \n",
    "model = create_loc_regressor(binning, number_of_conv=number_convs, conv_filter=conv_filter, \n",
    "                             conv_kern=conv_kernel, pool_kern=sampling_kernel, dropout=dropout, dense=dense)\n",
    "model"
   ]
  },
  {
   "cell_type": "markdown",
   "id": "20bca15a",
   "metadata": {},
   "source": [
    "# FROM SAVED MODELS"
   ]
  },
  {
   "cell_type": "code",
   "execution_count": 10,
   "id": "322f13f6",
   "metadata": {},
   "outputs": [
    {
     "name": "stdout",
     "output_type": "stream",
     "text": [
      "Model: \"sequential\"\n",
      "_________________________________________________________________\n",
      " Layer (type)                Output Shape              Param #   \n",
      "=================================================================\n",
      " conv2d (Conv2D)             (None, 197, 197, 2)       34        \n",
      "                                                                 \n",
      " max_pooling2d (MaxPooling2D  (None, 98, 98, 2)        0         \n",
      " )                                                               \n",
      "                                                                 \n",
      " conv2d_1 (Conv2D)           (None, 97, 97, 4)         36        \n",
      "                                                                 \n",
      " conv2d_2 (Conv2D)           (None, 96, 96, 4)         68        \n",
      "                                                                 \n",
      " conv2d_3 (Conv2D)           (None, 95, 95, 4)         68        \n",
      "                                                                 \n",
      " conv2d_4 (Conv2D)           (None, 94, 94, 4)         68        \n",
      "                                                                 \n",
      " max_pooling2d_1 (MaxPooling  (None, 47, 47, 4)        0         \n",
      " 2D)                                                             \n",
      "                                                                 \n",
      " dropout (Dropout)           (None, 47, 47, 4)         0         \n",
      "                                                                 \n",
      " flatten (Flatten)           (None, 8836)              0         \n",
      "                                                                 \n",
      " dense (Dense)               (None, 10)                88370     \n",
      "                                                                 \n",
      " dropout_1 (Dropout)         (None, 10)                0         \n",
      "                                                                 \n",
      " dense_1 (Dense)             (None, 2)                 22        \n",
      "                                                                 \n",
      "=================================================================\n",
      "Total params: 88,666\n",
      "Trainable params: 88,666\n",
      "Non-trainable params: 0\n",
      "_________________________________________________________________\n"
     ]
    }
   ],
   "source": [
    "import tensorflow as tf\n",
    "\n",
    "model = tf.keras.models.load_model('../models/cnn_regressor/regressor_5sgm_filter2_4convs.keras')\n",
    "model.summary()"
   ]
  },
  {
   "cell_type": "code",
   "execution_count": 2,
   "id": "5f58d92d",
   "metadata": {},
   "outputs": [
    {
     "name": "stdout",
     "output_type": "stream",
     "text": [
      "Model: \"model\"\n",
      "_________________________________________________________________\n",
      " Layer (type)                Output Shape              Param #   \n",
      "=================================================================\n",
      " input_1 (InputLayer)        [(None, 250, 250, 1)]     0         \n",
      "                                                                 \n",
      " conv2d (Conv2D)             (None, 250, 250, 50)      1300      \n",
      "                                                                 \n",
      " max_pooling2d (MaxPooling2D  (None, 50, 50, 50)       0         \n",
      " )                                                               \n",
      "                                                                 \n",
      " conv2d_1 (Conv2D)           (None, 50, 50, 50)        62550     \n",
      "                                                                 \n",
      " max_pooling2d_1 (MaxPooling  (None, 10, 10, 50)       0         \n",
      " 2D)                                                             \n",
      "                                                                 \n",
      " conv2d_2 (Conv2D)           (None, 10, 10, 50)        62550     \n",
      "                                                                 \n",
      " up_sampling2d (UpSampling2D  (None, 50, 50, 50)       0         \n",
      " )                                                               \n",
      "                                                                 \n",
      " conv2d_3 (Conv2D)           (None, 50, 50, 50)        62550     \n",
      "                                                                 \n",
      " up_sampling2d_1 (UpSampling  (None, 250, 250, 50)     0         \n",
      " 2D)                                                             \n",
      "                                                                 \n",
      " conv2d_4 (Conv2D)           (None, 250, 250, 1)       1251      \n",
      "                                                                 \n",
      "=================================================================\n",
      "Total params: 190,201\n",
      "Trainable params: 190,201\n",
      "Non-trainable params: 0\n",
      "_________________________________________________________________\n"
     ]
    }
   ],
   "source": [
    "model = tf.keras.models.load_model('../models/cnn_cleaner/cleaner_200k.keras')\n",
    "model.summary()"
   ]
  },
  {
   "cell_type": "code",
   "execution_count": null,
   "id": "d7556e9e",
   "metadata": {},
   "outputs": [],
   "source": []
  }
 ],
 "metadata": {
  "kernelspec": {
   "display_name": "Python 3 (ipykernel)",
   "language": "python",
   "name": "python3"
  },
  "language_info": {
   "codemirror_mode": {
    "name": "ipython",
    "version": 3
   },
   "file_extension": ".py",
   "mimetype": "text/x-python",
   "name": "python",
   "nbconvert_exporter": "python",
   "pygments_lexer": "ipython3",
   "version": "3.11.9"
  }
 },
 "nbformat": 4,
 "nbformat_minor": 5
}
