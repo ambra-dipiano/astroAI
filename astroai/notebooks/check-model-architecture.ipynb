{
 "cells": [
  {
   "cell_type": "markdown",
   "id": "ef2d5733",
   "metadata": {},
   "source": [
    "# From new model"
   ]
  },
  {
   "cell_type": "code",
   "execution_count": 3,
   "id": "aafcb897",
   "metadata": {},
   "outputs": [
    {
     "name": "stdout",
     "output_type": "stream",
     "text": [
      "Model: \"model_1\"\n",
      "_________________________________________________________________\n",
      " Layer (type)                Output Shape              Param #   \n",
      "=================================================================\n",
      " input_2 (InputLayer)        [(None, 200, 200, 1)]     0         \n",
      "                                                                 \n",
      " conv2d_5 (Conv2D)           (None, 200, 200, 12)      60        \n",
      "                                                                 \n",
      " average_pooling2d_2 (Averag  (None, 100, 100, 12)     0         \n",
      " ePooling2D)                                                     \n",
      "                                                                 \n",
      " conv2d_6 (Conv2D)           (None, 100, 100, 12)      588       \n",
      "                                                                 \n",
      " average_pooling2d_3 (Averag  (None, 50, 50, 12)       0         \n",
      " ePooling2D)                                                     \n",
      "                                                                 \n",
      " conv2d_7 (Conv2D)           (None, 50, 50, 12)        588       \n",
      "                                                                 \n",
      " up_sampling2d_2 (UpSampling  (None, 100, 100, 12)     0         \n",
      " 2D)                                                             \n",
      "                                                                 \n",
      " conv2d_8 (Conv2D)           (None, 100, 100, 12)      588       \n",
      "                                                                 \n",
      " up_sampling2d_3 (UpSampling  (None, 200, 200, 12)     0         \n",
      " 2D)                                                             \n",
      "                                                                 \n",
      " conv2d_9 (Conv2D)           (None, 200, 200, 1)       49        \n",
      "                                                                 \n",
      "=================================================================\n",
      "Total params: 1,873\n",
      "Trainable params: 1,873\n",
      "Non-trainable params: 0\n",
      "_________________________________________________________________\n"
     ]
    }
   ],
   "source": [
    "from astroai.models.cnn import create_bkg_cleaner\n",
    "\n",
    "fov = 2.5\n",
    "binning = 200\n",
    "pixel = 2*fov/binning\n",
    "\n",
    "# cleaner\n",
    "encoder = 2\n",
    "decoder = 1\n",
    "conv_filter = 12\n",
    "conv_kern = 2\n",
    "pool_kern = 2\n",
    "\n",
    "\n",
    "model = create_bkg_cleaner(binning, encoder=encoder, decoder=decoder, \n",
    "                           conv_filter=conv_filter, conv_kern=conv_kern, pool_kern=pool_kern)"
   ]
  },
  {
   "cell_type": "code",
   "execution_count": 7,
   "id": "7457229d",
   "metadata": {},
   "outputs": [
    {
     "name": "stdout",
     "output_type": "stream",
     "text": [
      "Model: \"sequential_3\"\n",
      "_________________________________________________________________\n",
      " Layer (type)                Output Shape              Param #   \n",
      "=================================================================\n",
      " conv2d_23 (Conv2D)          (None, 197, 197, 2)       34        \n",
      "                                                                 \n",
      " max_pooling2d_6 (MaxPooling  (None, 98, 98, 2)        0         \n",
      " 2D)                                                             \n",
      "                                                                 \n",
      " conv2d_24 (Conv2D)          (None, 97, 97, 4)         36        \n",
      "                                                                 \n",
      " conv2d_25 (Conv2D)          (None, 96, 96, 4)         68        \n",
      "                                                                 \n",
      " max_pooling2d_7 (MaxPooling  (None, 48, 48, 4)        0         \n",
      " 2D)                                                             \n",
      "                                                                 \n",
      " dropout_6 (Dropout)         (None, 48, 48, 4)         0         \n",
      "                                                                 \n",
      " flatten_3 (Flatten)         (None, 9216)              0         \n",
      "                                                                 \n",
      " dense_6 (Dense)             (None, 10)                92170     \n",
      "                                                                 \n",
      " dropout_7 (Dropout)         (None, 10)                0         \n",
      "                                                                 \n",
      " dense_7 (Dense)             (None, 2)                 22        \n",
      "                                                                 \n",
      "=================================================================\n",
      "Total params: 92,330\n",
      "Trainable params: 92,330\n",
      "Non-trainable params: 0\n",
      "_________________________________________________________________\n"
     ]
    },
    {
     "data": {
      "text/plain": [
       "<keras.engine.sequential.Sequential at 0x7f469c776150>"
      ]
     },
     "execution_count": 7,
     "metadata": {},
     "output_type": "execute_result"
    }
   ],
   "source": [
    "from astroai.models.cnn import create_loc_regressor\n",
    "\n",
    "# regressor\n",
    "number_convs = 2\n",
    "conv_filter = 2\n",
    "conv_kernel = 2\n",
    "sampling_kernel = 2\n",
    "dropout = 0.2\n",
    "dense = 10\n",
    "    \n",
    "model = create_loc_regressor(binning, number_of_conv=number_convs, conv_filter=conv_filter, \n",
    "                             conv_kern=conv_kernel, pool_kern=sampling_kernel, dropout=dropout, dense=dense)\n",
    "model"
   ]
  },
  {
   "cell_type": "markdown",
   "id": "20bca15a",
   "metadata": {},
   "source": [
    "# From saved model"
   ]
  },
  {
   "cell_type": "code",
   "execution_count": 1,
   "id": "322f13f6",
   "metadata": {},
   "outputs": [
    {
     "name": "stderr",
     "output_type": "stream",
     "text": [
      "2024-01-25 17:17:35.492700: I tensorflow/core/platform/cpu_feature_guard.cc:193] This TensorFlow binary is optimized with oneAPI Deep Neural Network Library (oneDNN) to use the following CPU instructions in performance-critical operations:  AVX2 FMA\n",
      "To enable them in other operations, rebuild TensorFlow with the appropriate compiler flags.\n",
      "2024-01-25 17:17:35.678294: W tensorflow/compiler/xla/stream_executor/platform/default/dso_loader.cc:64] Could not load dynamic library 'libcudart.so.11.0'; dlerror: libcudart.so.11.0: cannot open shared object file: No such file or directory\n",
      "2024-01-25 17:17:35.678333: I tensorflow/compiler/xla/stream_executor/cuda/cudart_stub.cc:29] Ignore above cudart dlerror if you do not have a GPU set up on your machine.\n",
      "2024-01-25 17:17:36.530285: W tensorflow/compiler/xla/stream_executor/platform/default/dso_loader.cc:64] Could not load dynamic library 'libnvinfer.so.7'; dlerror: libnvinfer.so.7: cannot open shared object file: No such file or directory\n",
      "2024-01-25 17:17:36.530384: W tensorflow/compiler/xla/stream_executor/platform/default/dso_loader.cc:64] Could not load dynamic library 'libnvinfer_plugin.so.7'; dlerror: libnvinfer_plugin.so.7: cannot open shared object file: No such file or directory\n",
      "2024-01-25 17:17:36.530396: W tensorflow/compiler/tf2tensorrt/utils/py_utils.cc:38] TF-TRT Warning: Cannot dlopen some TensorRT libraries. If you would like to use Nvidia GPU with TensorRT, please make sure the missing libraries mentioned above are installed properly.\n",
      "2024-01-25 17:17:37.535091: E tensorflow/compiler/xla/stream_executor/cuda/cuda_driver.cc:267] failed call to cuInit: CUDA_ERROR_UNKNOWN: unknown error\n",
      "2024-01-25 17:17:37.535160: I tensorflow/compiler/xla/stream_executor/cuda/cuda_diagnostics.cc:156] kernel driver does not appear to be running on this host (morgana): /proc/driver/nvidia/version does not exist\n",
      "2024-01-25 17:17:37.535789: I tensorflow/core/platform/cpu_feature_guard.cc:193] This TensorFlow binary is optimized with oneAPI Deep Neural Network Library (oneDNN) to use the following CPU instructions in performance-critical operations:  AVX2 FMA\n",
      "To enable them in other operations, rebuild TensorFlow with the appropriate compiler flags.\n"
     ]
    },
    {
     "name": "stdout",
     "output_type": "stream",
     "text": [
      "Model: \"model\"\n",
      "_________________________________________________________________\n",
      " Layer (type)                Output Shape              Param #   \n",
      "=================================================================\n",
      " input_1 (InputLayer)        [(None, 250, 250, 1)]     0         \n",
      "                                                                 \n",
      " conv2d (Conv2D)             (None, 250, 250, 5)       130       \n",
      "                                                                 \n",
      " max_pooling2d (MaxPooling2D  (None, 50, 50, 5)        0         \n",
      " )                                                               \n",
      "                                                                 \n",
      " conv2d_1 (Conv2D)           (None, 50, 50, 5)         630       \n",
      "                                                                 \n",
      " max_pooling2d_1 (MaxPooling  (None, 10, 10, 5)        0         \n",
      " 2D)                                                             \n",
      "                                                                 \n",
      " conv2d_2 (Conv2D)           (None, 10, 10, 5)         630       \n",
      "                                                                 \n",
      " up_sampling2d (UpSampling2D  (None, 50, 50, 5)        0         \n",
      " )                                                               \n",
      "                                                                 \n",
      " conv2d_3 (Conv2D)           (None, 50, 50, 5)         630       \n",
      "                                                                 \n",
      " up_sampling2d_1 (UpSampling  (None, 250, 250, 5)      0         \n",
      " 2D)                                                             \n",
      "                                                                 \n",
      " conv2d_4 (Conv2D)           (None, 250, 250, 1)       126       \n",
      "                                                                 \n",
      "=================================================================\n",
      "Total params: 2,146\n",
      "Trainable params: 2,146\n",
      "Non-trainable params: 0\n",
      "_________________________________________________________________\n"
     ]
    }
   ],
   "source": [
    "import tensorflow as tf\n",
    "\n",
    "model = tf.keras.models.load_model('../models/cleaner_avgpool.keras')\n",
    "model.summary()"
   ]
  },
  {
   "cell_type": "code",
   "execution_count": 2,
   "id": "5f58d92d",
   "metadata": {},
   "outputs": [
    {
     "name": "stdout",
     "output_type": "stream",
     "text": [
      "Model: \"model\"\n",
      "_________________________________________________________________\n",
      " Layer (type)                Output Shape              Param #   \n",
      "=================================================================\n",
      " input_1 (InputLayer)        [(None, 250, 250, 1)]     0         \n",
      "                                                                 \n",
      " conv2d (Conv2D)             (None, 250, 250, 50)      1300      \n",
      "                                                                 \n",
      " max_pooling2d (MaxPooling2D  (None, 50, 50, 50)       0         \n",
      " )                                                               \n",
      "                                                                 \n",
      " conv2d_1 (Conv2D)           (None, 50, 50, 50)        62550     \n",
      "                                                                 \n",
      " max_pooling2d_1 (MaxPooling  (None, 10, 10, 50)       0         \n",
      " 2D)                                                             \n",
      "                                                                 \n",
      " conv2d_2 (Conv2D)           (None, 10, 10, 50)        62550     \n",
      "                                                                 \n",
      " up_sampling2d (UpSampling2D  (None, 50, 50, 50)       0         \n",
      " )                                                               \n",
      "                                                                 \n",
      " conv2d_3 (Conv2D)           (None, 50, 50, 50)        62550     \n",
      "                                                                 \n",
      " up_sampling2d_1 (UpSampling  (None, 250, 250, 50)     0         \n",
      " 2D)                                                             \n",
      "                                                                 \n",
      " conv2d_4 (Conv2D)           (None, 250, 250, 1)       1251      \n",
      "                                                                 \n",
      "=================================================================\n",
      "Total params: 190,201\n",
      "Trainable params: 190,201\n",
      "Non-trainable params: 0\n",
      "_________________________________________________________________\n"
     ]
    }
   ],
   "source": [
    "model = tf.keras.models.load_model('../models/cleaner_200k.keras')\n",
    "model.summary()"
   ]
  },
  {
   "cell_type": "code",
   "execution_count": null,
   "id": "d7556e9e",
   "metadata": {},
   "outputs": [],
   "source": []
  }
 ],
 "metadata": {
  "kernelspec": {
   "display_name": "astroai",
   "language": "python",
   "name": "astroai"
  },
  "language_info": {
   "codemirror_mode": {
    "name": "ipython",
    "version": 3
   },
   "file_extension": ".py",
   "mimetype": "text/x-python",
   "name": "python",
   "nbconvert_exporter": "python",
   "pygments_lexer": "ipython3",
   "version": "3.7.4"
  }
 },
 "nbformat": 4,
 "nbformat_minor": 5
}
