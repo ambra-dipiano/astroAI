{
 "cells": [
  {
   "cell_type": "code",
   "execution_count": 9,
   "id": "aafcb897",
   "metadata": {},
   "outputs": [
    {
     "name": "stdout",
     "output_type": "stream",
     "text": [
      "200\n",
      "Model: \"model_6\"\n",
      "_________________________________________________________________\n",
      " Layer (type)                Output Shape              Param #   \n",
      "=================================================================\n",
      " input_9 (InputLayer)        [(None, 200, 200, 1)]     0         \n",
      "                                                                 \n",
      " conv2d_30 (Conv2D)          (None, 200, 200, 2)       10        \n",
      "                                                                 \n",
      " average_pooling2d_12 (Avera  (None, 100, 100, 2)      0         \n",
      " gePooling2D)                                                    \n",
      "                                                                 \n",
      " conv2d_31 (Conv2D)          (None, 100, 100, 2)       18        \n",
      "                                                                 \n",
      " average_pooling2d_13 (Avera  (None, 50, 50, 2)        0         \n",
      " gePooling2D)                                                    \n",
      "                                                                 \n",
      " conv2d_32 (Conv2D)          (None, 50, 50, 2)         18        \n",
      "                                                                 \n",
      " up_sampling2d_12 (UpSamplin  (None, 100, 100, 2)      0         \n",
      " g2D)                                                            \n",
      "                                                                 \n",
      " conv2d_33 (Conv2D)          (None, 100, 100, 2)       18        \n",
      "                                                                 \n",
      " up_sampling2d_13 (UpSamplin  (None, 200, 200, 2)      0         \n",
      " g2D)                                                            \n",
      "                                                                 \n",
      " conv2d_34 (Conv2D)          (None, 200, 200, 1)       9         \n",
      "                                                                 \n",
      "=================================================================\n",
      "Total params: 73\n",
      "Trainable params: 73\n",
      "Non-trainable params: 0\n",
      "_________________________________________________________________\n"
     ]
    }
   ],
   "source": [
    "from astroai.models.cnn import create_bkg_cleaner\n",
    "\n",
    "fov = 2.5\n",
    "pixel = 0.025\n",
    "binning = int(fov*2/pixel)\n",
    "print(binning)\n",
    "\n",
    "encoder = 2\n",
    "decoder = 1\n",
    "conv_filter = 2\n",
    "conv_kern = 2\n",
    "pool_kern = 2\n",
    "\n",
    "\n",
    "model = create_bkg_cleaner(binning, encoder=encoder, decoder=decoder, \n",
    "                           conv_filter=conv_filter, conv_kern=conv_kern, pool_kern=pool_kern)"
   ]
  },
  {
   "cell_type": "code",
   "execution_count": null,
   "id": "322f13f6",
   "metadata": {},
   "outputs": [],
   "source": []
  }
 ],
 "metadata": {
  "kernelspec": {
   "display_name": "astroai",
   "language": "python",
   "name": "astroai"
  },
  "language_info": {
   "codemirror_mode": {
    "name": "ipython",
    "version": 3
   },
   "file_extension": ".py",
   "mimetype": "text/x-python",
   "name": "python",
   "nbconvert_exporter": "python",
   "pygments_lexer": "ipython3",
   "version": "3.7.4"
  }
 },
 "nbformat": 4,
 "nbformat_minor": 5
}
